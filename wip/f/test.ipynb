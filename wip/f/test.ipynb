{
 "cells": [
  {
   "cell_type": "markdown",
   "id": "4643840a-fd32-47fc-9bb8-a062c367640c",
   "metadata": {},
   "source": [
    "# BC5\n",
    "\n",
    "Apex Pattern Deployers\n",
    "\n",
    "- Marjorie Kinney *m20210647*\n",
    "- Bruno Mendes *m20210627*\n",
    "- Lucas Neves *m20211020*\n",
    "- Farina Pontejos *m20210649*\n",
    "\n",
    "Business Cases for Data Science\n",
    "\n",
    "NOVA Information Management School\n",
    "\n",
    "May 2022\n",
    "\n",
    "https://github.com/fpontejos/bc5\n"
   ]
  },
  {
   "cell_type": "markdown",
   "id": "bbe93815-1778-4c9a-9417-9d86c6bafd51",
   "metadata": {},
   "source": [
    "## Initial Setup"
   ]
  },
  {
   "cell_type": "markdown",
   "id": "03c382b6-5bb4-48a7-b4c6-8322433dad7d",
   "metadata": {},
   "source": [
    "### Imports"
   ]
  },
  {
   "cell_type": "code",
   "execution_count": 1,
   "id": "7eb626fa-6e27-49cb-a0b9-c071a4f97d46",
   "metadata": {},
   "outputs": [],
   "source": [
    "import pandas as pd\n",
    "import numpy as np\n",
    "import scipy as sp\n",
    "import seaborn as sns\n",
    "import matplotlib.pyplot as plt\n",
    "import scipy.stats as stats\n",
    "from math import ceil\n",
    "from datetime import timedelta, datetime\n",
    "import os\n",
    "import re\n",
    "import warnings\n",
    "import itertools\n",
    "import collections\n",
    "import ta\n",
    "\n",
    "warnings.filterwarnings('ignore')\n",
    "\n"
   ]
  },
  {
   "cell_type": "code",
   "execution_count": 2,
   "id": "f2f22781-7290-41ac-afd1-2583f3f3986c",
   "metadata": {},
   "outputs": [],
   "source": [
    "from functools import reduce"
   ]
  },
  {
   "cell_type": "code",
   "execution_count": 3,
   "id": "9e454acb-2a03-42c0-881a-abbc294daa76",
   "metadata": {},
   "outputs": [],
   "source": [
    "from sklearn.metrics import mean_squared_error, mean_absolute_error, mean_absolute_percentage_error\n"
   ]
  },
  {
   "cell_type": "code",
   "execution_count": 4,
   "id": "8484aa25-735f-47b1-b9c7-adcd577862ed",
   "metadata": {},
   "outputs": [],
   "source": [
    "from matplotlib.colors import LinearSegmentedColormap\n"
   ]
  },
  {
   "cell_type": "code",
   "execution_count": 5,
   "id": "3e07f2d1-ba0f-4595-a627-d203b8459857",
   "metadata": {},
   "outputs": [],
   "source": [
    "from pandas_datareader import data as pdr\n",
    "import yfinance as yf\n",
    "yf.pdr_override()\n"
   ]
  },
  {
   "cell_type": "markdown",
   "id": "bcc45723-1c8b-4e80-aa0d-b14d63c46892",
   "metadata": {},
   "source": [
    "### Variables"
   ]
  },
  {
   "cell_type": "code",
   "execution_count": 6,
   "id": "2a52a438-cf34-4757-a728-c5212ecfb8aa",
   "metadata": {},
   "outputs": [],
   "source": [
    "COLORS = ['#2ec4b6', '#1e9fb4', '#0f7ab2', '#285892', '#49306b', '#7a3161', '#a13258', '#c63351', '#ea3449']\n",
    "\n",
    "CAT_COLORS = ['#2EC4B6', '#0E79B2', '#49306B', '#9A325A', '#EA3449']\n",
    "CONTRAST_COLORS = [COLORS[i] for i in range(len(COLORS)) if (i%2) == 0]\n",
    "\n",
    "DIV_COLORS = ['#0e79b2', '#4b9ac3', '#84b8d4', '#bcd6e4', '#f4f4f4', '#c6c0d0', '#9b8eac', '#715e8b', '#49306b']\n",
    "\n",
    "DIV_COL_HALF = ['#f4f4f4', '#bed3da', '#8ab2bf', '#5592a5', '#20718b']\n",
    "\n",
    "UMP_COLORS = ['#22446D', '#FC9E4F', '#AB2346' ,'#6ABB5D']\n",
    "\n",
    "DEFAULT_PALETTE = sns.color_palette(COLORS)\n",
    "CONTRAST_PALETTE = sns.color_palette(CONTRAST_COLORS)\n",
    "DIVERGENT_PALETTE = sns.color_palette(DIV_COLORS)\n",
    "DIVHALF_PALETTE = sns.color_palette(DIV_COL_HALF)\n",
    "CAT_PALETTE = sns.color_palette(CAT_COLORS)\n",
    "UMP_PALETTE = sns.color_palette(UMP_COLORS)\n",
    "\n",
    "\n",
    "DIV_CMAP = LinearSegmentedColormap.from_list(\"div_colors\", DIV_COLORS)\n",
    "DIV_H_CMAP = LinearSegmentedColormap.from_list(\"div_colors\", DIV_COL_HALF)\n",
    "CAT_CMAP = LinearSegmentedColormap.from_list(\"cat_colors\", CAT_COLORS)\n",
    "UMP_CMAP = LinearSegmentedColormap.from_list(\"ump_colors\", UMP_COLORS)\n",
    "\n",
    "\n",
    "SHOW_PLOTS = True\n",
    "SAVE_PLOTS = True\n",
    "RANDOM_STATE = 9\n",
    "\n",
    "IMG_PATH = '../imgs/'\n",
    "DATA_IN_PATH = '../../source/data_updated/'\n",
    "DATA_OUT_PATH = '../../data_out/'\n"
   ]
  },
  {
   "cell_type": "code",
   "execution_count": 7,
   "id": "c255fd78-0aea-4360-b308-4a0616eee64a",
   "metadata": {},
   "outputs": [],
   "source": [
    "def save_fig(title, fig):\n",
    "    if SAVE_PLOTS == True:\n",
    "        fn = IMG_PATH + title.replace(' ','-') + '.png'\n",
    "        fig.savefig(fn, bbox_inches='tight', transparent=True)\n",
    "        \n"
   ]
  },
  {
   "cell_type": "markdown",
   "id": "246eb707-37de-4238-89c7-876e5459e983",
   "metadata": {},
   "source": [
    "### Styles"
   ]
  },
  {
   "cell_type": "code",
   "execution_count": 8,
   "id": "11911a70-0985-47b5-a601-92747e883877",
   "metadata": {},
   "outputs": [],
   "source": [
    "sns.set(style=\"white\")\n",
    "\n",
    "sns.set_context(\"paper\")\n",
    "sns.set_palette(DEFAULT_PALETTE)\n",
    "\n",
    "\n",
    "plt.rcParams['figure.dpi'] = 128"
   ]
  },
  {
   "cell_type": "code",
   "execution_count": 9,
   "id": "64780f18-e6e0-4f97-9f50-27bd08d9ab4d",
   "metadata": {},
   "outputs": [
    {
     "data": {
      "image/png": "[encoded data removed]",
      "text/plain": [
       "<Figure size 1152x128 with 1 Axes>"
      ]
     },
     "metadata": {},
     "output_type": "display_data"
    },
    {
     "data": {
      "image/png": "[encoded data removed]",
      "text/plain": [
       "<Figure size 640x128 with 1 Axes>"
      ]
     },
     "metadata": {},
     "output_type": "display_data"
    },
    {
     "data": {
      "image/png": "[encoded data removed]",
      "text/plain": [
       "<Figure size 1152x128 with 1 Axes>"
      ]
     },
     "metadata": {},
     "output_type": "display_data"
    },
    {
     "data": {
      "image/png": "[encoded data removed]",
      "text/plain": [
       "<Figure size 640x128 with 1 Axes>"
      ]
     },
     "metadata": {},
     "output_type": "display_data"
    }
   ],
   "source": [
    "sns.palplot(DEFAULT_PALETTE)\n",
    "sns.palplot(CONTRAST_PALETTE)\n",
    "sns.palplot(DIVERGENT_PALETTE)\n",
    "sns.palplot(CAT_PALETTE)\n",
    "plt.show()"
   ]
  },
  {
   "cell_type": "code",
   "execution_count": null,
   "id": "85be1056-4df3-4244-bb8d-20a98a8f2f1a",
   "metadata": {},
   "outputs": [],
   "source": []
  },
  {
   "cell_type": "code",
   "execution_count": null,
   "id": "f052c73b-21d3-4a93-8837-748fef5d029b",
   "metadata": {},
   "outputs": [],
   "source": []
  },
  {
   "cell_type": "code",
   "execution_count": null,
   "id": "af288013-c65d-45e8-b1ee-7a81ee900201",
   "metadata": {},
   "outputs": [],
   "source": []
  },
  {
   "cell_type": "code",
   "execution_count": null,
   "id": "71adc007-649a-46cb-a683-f1a5bd4cf52e",
   "metadata": {},
   "outputs": [],
   "source": []
  },
  {
   "cell_type": "code",
   "execution_count": null,
   "id": "f45b0629-4a35-49f1-af42-7027fedc0e82",
   "metadata": {},
   "outputs": [],
   "source": []
  },
  {
   "cell_type": "markdown",
   "id": "e2843d7c-2e34-427a-a81d-5bda448fa8e3",
   "metadata": {},
   "source": [
    "## Get Data"
   ]
  },
  {
   "cell_type": "code",
   "execution_count": 10,
   "id": "30e5ac82-5de6-485b-b348-f599cfedd2ac",
   "metadata": {},
   "outputs": [],
   "source": [
    "START_DATE = '2017-05-09'\n",
    "END_DATE = '2022-05-08'\n",
    "END_DATE_ = '2022-05-09'"
   ]
  },
  {
   "cell_type": "code",
   "execution_count": 11,
   "id": "809243f6-28a8-4f81-ac1a-6a82b6065d49",
   "metadata": {},
   "outputs": [
    {
     "name": "stdout",
     "output_type": "stream",
     "text": [
      "[*********************100%***********************]  1 of 1 completed\n"
     ]
    }
   ],
   "source": [
    "## Gold prices as proxy for risk-aversion\n",
    "stock_symbol = \"VIX\"\n",
    "stock_data = pdr.get_data_yahoo(stock_symbol, start=START_DATE, end=END_DATE_)\n",
    "stock_data = stock_data.reset_index()"
   ]
  },
  {
   "cell_type": "code",
   "execution_count": null,
   "id": "e8af5248-0f41-4a7a-bc33-d9bb8a87dc89",
   "metadata": {},
   "outputs": [],
   "source": []
  },
  {
   "cell_type": "code",
   "execution_count": null,
   "id": "83231bf8-51ff-4478-93e8-b6cf0bab98a4",
   "metadata": {},
   "outputs": [],
   "source": []
  },
  {
   "cell_type": "code",
   "execution_count": null,
   "id": "3a029eff-9d05-42f1-85b3-6053fe42ff27",
   "metadata": {},
   "outputs": [],
   "source": []
  },
  {
   "cell_type": "markdown",
   "id": "9aab35e3-f8c1-4a40-8448-6dc6c9d13932",
   "metadata": {},
   "source": [
    "### Twitter"
   ]
  },
  {
   "cell_type": "code",
   "execution_count": 12,
   "id": "cf8c4ff3-dba6-429c-b02c-a817cdc2219a",
   "metadata": {},
   "outputs": [],
   "source": [
    "import tweepy"
   ]
  },
  {
   "cell_type": "code",
   "execution_count": 13,
   "id": "7fe213e2-b03b-49c0-94c3-73138a7b5bc2",
   "metadata": {},
   "outputs": [],
   "source": [
    "## Get keys\n",
    "tk = pd.read_csv('../../../twitter.csv')#.set_index('label')\n",
    "\n",
    "apiKey = tk.loc[tk['label']=='api']['key'].values[0]\n",
    "apiSecret = tk.loc[tk['label']=='apisecret']['key'].values[0]\n",
    "accessToken = tk.loc[tk['label']=='accesstoken']['key'].values[0]\n",
    "accessTokenSecret = tk.loc[tk['label']=='accesstokensecret']['key'].values[0]\n"
   ]
  },
  {
   "cell_type": "code",
   "execution_count": 14,
   "id": "14e03359-e29a-4109-92ba-cea05c94a74f",
   "metadata": {},
   "outputs": [],
   "source": [
    "# Set authentication and access token\n",
    "auth = tweepy.OAuthHandler(apiKey, apiSecret)\n",
    "auth.set_access_token(accessToken, accessTokenSecret)\n",
    "api = tweepy.API(auth)\n",
    "\n",
    "noOfTweet = 1000\n"
   ]
  },
  {
   "cell_type": "code",
   "execution_count": null,
   "id": "fd40dec8-2b9f-4e23-8383-2a3dfca00860",
   "metadata": {},
   "outputs": [],
   "source": [
    "\n"
   ]
  },
  {
   "cell_type": "code",
   "execution_count": 18,
   "id": "17e24c4a-830a-4966-8798-2431c8439c56",
   "metadata": {},
   "outputs": [],
   "source": [
    "def get_tweets(sym):\n",
    "    tweets = tweepy.Cursor(api.search_tweets, q=sym, tweet_mode='extended', lang='en').items(noOfTweet)\n",
    "    tweet_list = []\n",
    "    for t in tweets:\n",
    "        if not \"Bot\" in t.author.name :\n",
    "            tweet_list.append(t.full_text)\n",
    "            \n",
    "    return tweet_list"
   ]
  },
  {
   "cell_type": "code",
   "execution_count": 164,
   "id": "abbf5054-6060-4a86-80f4-5418398b0cfd",
   "metadata": {},
   "outputs": [],
   "source": [
    "tweet_list = get_tweets(stock_symbol)"
   ]
  },
  {
   "cell_type": "code",
   "execution_count": 165,
   "id": "8e63144b-0897-4294-88be-22b3f27046b5",
   "metadata": {},
   "outputs": [],
   "source": [
    "# tweet_list"
   ]
  },
  {
   "cell_type": "code",
   "execution_count": 166,
   "id": "f169d5b1-aac6-4d0c-90f6-542360710151",
   "metadata": {},
   "outputs": [],
   "source": [
    "tweet_list_ = tweet_list.copy()"
   ]
  },
  {
   "cell_type": "code",
   "execution_count": 167,
   "id": "f8a94324-da49-49c6-8068-cdf09f63bcd0",
   "metadata": {},
   "outputs": [],
   "source": [
    "df_tweet = pd.DataFrame(tweet_list)\n",
    "df_tweet.to_csv('tweet_sample.csv', index=False)"
   ]
  },
  {
   "cell_type": "markdown",
   "id": "6f8a5957-da92-4469-9864-2afe4ccf0be3",
   "metadata": {},
   "source": [
    "### yfinance"
   ]
  },
  {
   "cell_type": "code",
   "execution_count": 50,
   "id": "34817263-d464-4088-8fcf-d1cb44a99532",
   "metadata": {},
   "outputs": [
    {
     "name": "stdout",
     "output_type": "stream",
     "text": [
      "2021-05-16 2022-05-17\n"
     ]
    }
   ],
   "source": [
    "date_interval = 365\n",
    "END_DATE = (datetime.today() + timedelta(days=1)).strftime('%Y-%m-%d')\n",
    "START_DATE = (datetime.today() + timedelta(days=-date_interval)).strftime('%Y-%m-%d')\n",
    "\n",
    "print(START_DATE, END_DATE)"
   ]
  },
  {
   "cell_type": "code",
   "execution_count": 93,
   "id": "e9b4f871-b4b6-4049-b0a5-890b49542182",
   "metadata": {},
   "outputs": [],
   "source": [
    "def get_findata(sym, start_date, end_date):\n",
    "    df_ = pdr.get_data_yahoo(sym, start=start_date, end=end_date)\n",
    "    df_ = df_.reset_index().set_index('Date').asfreq('d')\n",
    "    df_['DateCol'] = df_.index\n",
    "    df_.fillna(method='ffill', inplace=True)    \n",
    "    return df_"
   ]
  },
  {
   "cell_type": "code",
   "execution_count": 94,
   "id": "2149aebc-e0ea-478b-a294-9da4b3e4830f",
   "metadata": {},
   "outputs": [
    {
     "name": "stdout",
     "output_type": "stream",
     "text": [
      "[*********************100%***********************]  1 of 1 completed\n"
     ]
    }
   ],
   "source": [
    "gold_data = get_findata('GC=F', START_DATE, END_DATE)"
   ]
  },
  {
   "cell_type": "code",
   "execution_count": 95,
   "id": "5d188d6e-8532-4ce2-ad11-69b7fa7e34e4",
   "metadata": {},
   "outputs": [
    {
     "data": {
      "text/html": [
       "<div>\n",
       "<style scoped>\n",
       "    .dataframe tbody tr th:only-of-type {\n",
       "        vertical-align: middle;\n",
       "    }\n",
       "\n",
       "    .dataframe tbody tr th {\n",
       "        vertical-align: top;\n",
       "    }\n",
       "\n",
       "    .dataframe thead th {\n",
       "        text-align: right;\n",
       "    }\n",
       "</style>\n",
       "<table border=\"1\" class=\"dataframe\">\n",
       "  <thead>\n",
       "    <tr style=\"text-align: right;\">\n",
       "      <th></th>\n",
       "      <th>Open</th>\n",
       "      <th>High</th>\n",
       "      <th>Low</th>\n",
       "      <th>Close</th>\n",
       "      <th>Adj Close</th>\n",
       "      <th>Volume</th>\n",
       "      <th>DateCol</th>\n",
       "    </tr>\n",
       "    <tr>\n",
       "      <th>Date</th>\n",
       "      <th></th>\n",
       "      <th></th>\n",
       "      <th></th>\n",
       "      <th></th>\n",
       "      <th></th>\n",
       "      <th></th>\n",
       "      <th></th>\n",
       "    </tr>\n",
       "  </thead>\n",
       "  <tbody>\n",
       "    <tr>\n",
       "      <th>2021-05-17</th>\n",
       "      <td>1849.900024</td>\n",
       "      <td>1867.500000</td>\n",
       "      <td>1847.199951</td>\n",
       "      <td>1867.500000</td>\n",
       "      <td>1867.500000</td>\n",
       "      <td>13.0</td>\n",
       "      <td>2021-05-17</td>\n",
       "    </tr>\n",
       "    <tr>\n",
       "      <th>2021-05-18</th>\n",
       "      <td>1870.500000</td>\n",
       "      <td>1870.500000</td>\n",
       "      <td>1867.800049</td>\n",
       "      <td>1867.800049</td>\n",
       "      <td>1867.800049</td>\n",
       "      <td>3.0</td>\n",
       "      <td>2021-05-18</td>\n",
       "    </tr>\n",
       "    <tr>\n",
       "      <th>2021-05-19</th>\n",
       "      <td>1866.400024</td>\n",
       "      <td>1884.900024</td>\n",
       "      <td>1863.599976</td>\n",
       "      <td>1881.300049</td>\n",
       "      <td>1881.300049</td>\n",
       "      <td>348.0</td>\n",
       "      <td>2021-05-19</td>\n",
       "    </tr>\n",
       "    <tr>\n",
       "      <th>2021-05-20</th>\n",
       "      <td>1865.500000</td>\n",
       "      <td>1885.000000</td>\n",
       "      <td>1864.800049</td>\n",
       "      <td>1881.800049</td>\n",
       "      <td>1881.800049</td>\n",
       "      <td>85.0</td>\n",
       "      <td>2021-05-20</td>\n",
       "    </tr>\n",
       "    <tr>\n",
       "      <th>2021-05-21</th>\n",
       "      <td>1872.099976</td>\n",
       "      <td>1876.699951</td>\n",
       "      <td>1872.099976</td>\n",
       "      <td>1876.699951</td>\n",
       "      <td>1876.699951</td>\n",
       "      <td>5.0</td>\n",
       "      <td>2021-05-21</td>\n",
       "    </tr>\n",
       "    <tr>\n",
       "      <th>2021-05-22</th>\n",
       "      <td>1872.099976</td>\n",
       "      <td>1876.699951</td>\n",
       "      <td>1872.099976</td>\n",
       "      <td>1876.699951</td>\n",
       "      <td>1876.699951</td>\n",
       "      <td>5.0</td>\n",
       "      <td>2021-05-22</td>\n",
       "    </tr>\n",
       "    <tr>\n",
       "      <th>2021-05-23</th>\n",
       "      <td>1872.099976</td>\n",
       "      <td>1876.699951</td>\n",
       "      <td>1872.099976</td>\n",
       "      <td>1876.699951</td>\n",
       "      <td>1876.699951</td>\n",
       "      <td>5.0</td>\n",
       "      <td>2021-05-23</td>\n",
       "    </tr>\n",
       "    <tr>\n",
       "      <th>2021-05-24</th>\n",
       "      <td>1882.099976</td>\n",
       "      <td>1884.599976</td>\n",
       "      <td>1882.099976</td>\n",
       "      <td>1884.599976</td>\n",
       "      <td>1884.599976</td>\n",
       "      <td>39.0</td>\n",
       "      <td>2021-05-24</td>\n",
       "    </tr>\n",
       "    <tr>\n",
       "      <th>2021-05-25</th>\n",
       "      <td>1882.500000</td>\n",
       "      <td>1898.099976</td>\n",
       "      <td>1882.500000</td>\n",
       "      <td>1898.099976</td>\n",
       "      <td>1898.099976</td>\n",
       "      <td>56.0</td>\n",
       "      <td>2021-05-25</td>\n",
       "    </tr>\n",
       "    <tr>\n",
       "      <th>2021-05-26</th>\n",
       "      <td>1901.300049</td>\n",
       "      <td>1901.300049</td>\n",
       "      <td>1901.300049</td>\n",
       "      <td>1901.300049</td>\n",
       "      <td>1901.300049</td>\n",
       "      <td>170526.0</td>\n",
       "      <td>2021-05-26</td>\n",
       "    </tr>\n",
       "    <tr>\n",
       "      <th>2021-05-27</th>\n",
       "      <td>1896.800049</td>\n",
       "      <td>1903.900024</td>\n",
       "      <td>1888.199951</td>\n",
       "      <td>1895.699951</td>\n",
       "      <td>1895.699951</td>\n",
       "      <td>35794.0</td>\n",
       "      <td>2021-05-27</td>\n",
       "    </tr>\n",
       "    <tr>\n",
       "      <th>2021-05-28</th>\n",
       "      <td>1897.500000</td>\n",
       "      <td>1905.400024</td>\n",
       "      <td>1881.900024</td>\n",
       "      <td>1902.500000</td>\n",
       "      <td>1902.500000</td>\n",
       "      <td>2415.0</td>\n",
       "      <td>2021-05-28</td>\n",
       "    </tr>\n",
       "    <tr>\n",
       "      <th>2021-05-29</th>\n",
       "      <td>1897.500000</td>\n",
       "      <td>1905.400024</td>\n",
       "      <td>1881.900024</td>\n",
       "      <td>1902.500000</td>\n",
       "      <td>1902.500000</td>\n",
       "      <td>2415.0</td>\n",
       "      <td>2021-05-29</td>\n",
       "    </tr>\n",
       "    <tr>\n",
       "      <th>2021-05-30</th>\n",
       "      <td>1897.500000</td>\n",
       "      <td>1905.400024</td>\n",
       "      <td>1881.900024</td>\n",
       "      <td>1902.500000</td>\n",
       "      <td>1902.500000</td>\n",
       "      <td>2415.0</td>\n",
       "      <td>2021-05-30</td>\n",
       "    </tr>\n",
       "    <tr>\n",
       "      <th>2021-05-31</th>\n",
       "      <td>1897.500000</td>\n",
       "      <td>1905.400024</td>\n",
       "      <td>1881.900024</td>\n",
       "      <td>1902.500000</td>\n",
       "      <td>1902.500000</td>\n",
       "      <td>2415.0</td>\n",
       "      <td>2021-05-31</td>\n",
       "    </tr>\n",
       "  </tbody>\n",
       "</table>\n",
       "</div>"
      ],
      "text/plain": [
       "                   Open         High          Low        Close    Adj Close  \\\n",
       "Date                                                                          \n",
       "2021-05-17  1849.900024  1867.500000  1847.199951  1867.500000  1867.500000   \n",
       "2021-05-18  1870.500000  1870.500000  1867.800049  1867.800049  1867.800049   \n",
       "2021-05-19  1866.400024  1884.900024  1863.599976  1881.300049  1881.300049   \n",
       "2021-05-20  1865.500000  1885.000000  1864.800049  1881.800049  1881.800049   \n",
       "2021-05-21  1872.099976  1876.699951  1872.099976  1876.699951  1876.699951   \n",
       "2021-05-22  1872.099976  1876.699951  1872.099976  1876.699951  1876.699951   \n",
       "2021-05-23  1872.099976  1876.699951  1872.099976  1876.699951  1876.699951   \n",
       "2021-05-24  1882.099976  1884.599976  1882.099976  1884.599976  1884.599976   \n",
       "2021-05-25  1882.500000  1898.099976  1882.500000  1898.099976  1898.099976   \n",
       "2021-05-26  1901.300049  1901.300049  1901.300049  1901.300049  1901.300049   \n",
       "2021-05-27  1896.800049  1903.900024  1888.199951  1895.699951  1895.699951   \n",
       "2021-05-28  1897.500000  1905.400024  1881.900024  1902.500000  1902.500000   \n",
       "2021-05-29  1897.500000  1905.400024  1881.900024  1902.500000  1902.500000   \n",
       "2021-05-30  1897.500000  1905.400024  1881.900024  1902.500000  1902.500000   \n",
       "2021-05-31  1897.500000  1905.400024  1881.900024  1902.500000  1902.500000   \n",
       "\n",
       "              Volume    DateCol  \n",
       "Date                             \n",
       "2021-05-17      13.0 2021-05-17  \n",
       "2021-05-18       3.0 2021-05-18  \n",
       "2021-05-19     348.0 2021-05-19  \n",
       "2021-05-20      85.0 2021-05-20  \n",
       "2021-05-21       5.0 2021-05-21  \n",
       "2021-05-22       5.0 2021-05-22  \n",
       "2021-05-23       5.0 2021-05-23  \n",
       "2021-05-24      39.0 2021-05-24  \n",
       "2021-05-25      56.0 2021-05-25  \n",
       "2021-05-26  170526.0 2021-05-26  \n",
       "2021-05-27   35794.0 2021-05-27  \n",
       "2021-05-28    2415.0 2021-05-28  \n",
       "2021-05-29    2415.0 2021-05-29  \n",
       "2021-05-30    2415.0 2021-05-30  \n",
       "2021-05-31    2415.0 2021-05-31  "
      ]
     },
     "execution_count": 95,
     "metadata": {},
     "output_type": "execute_result"
    }
   ],
   "source": [
    "gold_data.head(15)"
   ]
  },
  {
   "cell_type": "code",
   "execution_count": 151,
   "id": "6b5b561b-cd66-4d7b-874c-5bbaf1689873",
   "metadata": {},
   "outputs": [
    {
     "name": "stdout",
     "output_type": "stream",
     "text": [
      "[*********************100%***********************]  1 of 1 completed\n"
     ]
    }
   ],
   "source": [
    "symbol = 'GOOG'\n",
    "fin_data = get_findata(symbol, start_date, end_date)"
   ]
  },
  {
   "cell_type": "code",
   "execution_count": 152,
   "id": "c5aef43d-bf24-488e-9d0f-88c584c1fcfa",
   "metadata": {},
   "outputs": [
    {
     "data": {
      "text/html": [
       "<div>\n",
       "<style scoped>\n",
       "    .dataframe tbody tr th:only-of-type {\n",
       "        vertical-align: middle;\n",
       "    }\n",
       "\n",
       "    .dataframe tbody tr th {\n",
       "        vertical-align: top;\n",
       "    }\n",
       "\n",
       "    .dataframe thead th {\n",
       "        text-align: right;\n",
       "    }\n",
       "</style>\n",
       "<table border=\"1\" class=\"dataframe\">\n",
       "  <thead>\n",
       "    <tr style=\"text-align: right;\">\n",
       "      <th></th>\n",
       "      <th>Open</th>\n",
       "      <th>High</th>\n",
       "      <th>Low</th>\n",
       "      <th>Close</th>\n",
       "      <th>Adj Close</th>\n",
       "      <th>Volume</th>\n",
       "      <th>DateCol</th>\n",
       "    </tr>\n",
       "    <tr>\n",
       "      <th>Date</th>\n",
       "      <th></th>\n",
       "      <th></th>\n",
       "      <th></th>\n",
       "      <th></th>\n",
       "      <th></th>\n",
       "      <th></th>\n",
       "      <th></th>\n",
       "    </tr>\n",
       "  </thead>\n",
       "  <tbody>\n",
       "    <tr>\n",
       "      <th>2021-05-17</th>\n",
       "      <td>2309.320068</td>\n",
       "      <td>2323.340088</td>\n",
       "      <td>2295.000000</td>\n",
       "      <td>2321.409912</td>\n",
       "      <td>2321.409912</td>\n",
       "      <td>992100.0</td>\n",
       "      <td>2021-05-17</td>\n",
       "    </tr>\n",
       "    <tr>\n",
       "      <th>2021-05-18</th>\n",
       "      <td>2336.906006</td>\n",
       "      <td>2343.149902</td>\n",
       "      <td>2303.159912</td>\n",
       "      <td>2303.429932</td>\n",
       "      <td>2303.429932</td>\n",
       "      <td>865100.0</td>\n",
       "      <td>2021-05-18</td>\n",
       "    </tr>\n",
       "    <tr>\n",
       "      <th>2021-05-19</th>\n",
       "      <td>2264.399902</td>\n",
       "      <td>2316.760010</td>\n",
       "      <td>2263.520020</td>\n",
       "      <td>2308.709961</td>\n",
       "      <td>2308.709961</td>\n",
       "      <td>967500.0</td>\n",
       "      <td>2021-05-19</td>\n",
       "    </tr>\n",
       "    <tr>\n",
       "      <th>2021-05-20</th>\n",
       "      <td>2328.040039</td>\n",
       "      <td>2360.340088</td>\n",
       "      <td>2321.090088</td>\n",
       "      <td>2356.090088</td>\n",
       "      <td>2356.090088</td>\n",
       "      <td>1191600.0</td>\n",
       "      <td>2021-05-20</td>\n",
       "    </tr>\n",
       "    <tr>\n",
       "      <th>2021-05-21</th>\n",
       "      <td>2365.989990</td>\n",
       "      <td>2369.000000</td>\n",
       "      <td>2342.370117</td>\n",
       "      <td>2345.100098</td>\n",
       "      <td>2345.100098</td>\n",
       "      <td>1141600.0</td>\n",
       "      <td>2021-05-21</td>\n",
       "    </tr>\n",
       "    <tr>\n",
       "      <th>...</th>\n",
       "      <td>...</td>\n",
       "      <td>...</td>\n",
       "      <td>...</td>\n",
       "      <td>...</td>\n",
       "      <td>...</td>\n",
       "      <td>...</td>\n",
       "      <td>...</td>\n",
       "    </tr>\n",
       "    <tr>\n",
       "      <th>2022-05-12</th>\n",
       "      <td>2238.760010</td>\n",
       "      <td>2297.129883</td>\n",
       "      <td>2202.270020</td>\n",
       "      <td>2263.219971</td>\n",
       "      <td>2263.219971</td>\n",
       "      <td>2073200.0</td>\n",
       "      <td>2022-05-12</td>\n",
       "    </tr>\n",
       "    <tr>\n",
       "      <th>2022-05-13</th>\n",
       "      <td>2296.909912</td>\n",
       "      <td>2361.699951</td>\n",
       "      <td>2280.000000</td>\n",
       "      <td>2330.310059</td>\n",
       "      <td>2330.310059</td>\n",
       "      <td>1486000.0</td>\n",
       "      <td>2022-05-13</td>\n",
       "    </tr>\n",
       "    <tr>\n",
       "      <th>2022-05-14</th>\n",
       "      <td>2296.909912</td>\n",
       "      <td>2361.699951</td>\n",
       "      <td>2280.000000</td>\n",
       "      <td>2330.310059</td>\n",
       "      <td>2330.310059</td>\n",
       "      <td>1486000.0</td>\n",
       "      <td>2022-05-14</td>\n",
       "    </tr>\n",
       "    <tr>\n",
       "      <th>2022-05-15</th>\n",
       "      <td>2296.909912</td>\n",
       "      <td>2361.699951</td>\n",
       "      <td>2280.000000</td>\n",
       "      <td>2330.310059</td>\n",
       "      <td>2330.310059</td>\n",
       "      <td>1486000.0</td>\n",
       "      <td>2022-05-15</td>\n",
       "    </tr>\n",
       "    <tr>\n",
       "      <th>2022-05-16</th>\n",
       "      <td>2307.679932</td>\n",
       "      <td>2332.149902</td>\n",
       "      <td>2286.699951</td>\n",
       "      <td>2295.850098</td>\n",
       "      <td>2295.850098</td>\n",
       "      <td>1164100.0</td>\n",
       "      <td>2022-05-16</td>\n",
       "    </tr>\n",
       "  </tbody>\n",
       "</table>\n",
       "<p>365 rows × 7 columns</p>\n",
       "</div>"
      ],
      "text/plain": [
       "                   Open         High          Low        Close    Adj Close  \\\n",
       "Date                                                                          \n",
       "2021-05-17  2309.320068  2323.340088  2295.000000  2321.409912  2321.409912   \n",
       "2021-05-18  2336.906006  2343.149902  2303.159912  2303.429932  2303.429932   \n",
       "2021-05-19  2264.399902  2316.760010  2263.520020  2308.709961  2308.709961   \n",
       "2021-05-20  2328.040039  2360.340088  2321.090088  2356.090088  2356.090088   \n",
       "2021-05-21  2365.989990  2369.000000  2342.370117  2345.100098  2345.100098   \n",
       "...                 ...          ...          ...          ...          ...   \n",
       "2022-05-12  2238.760010  2297.129883  2202.270020  2263.219971  2263.219971   \n",
       "2022-05-13  2296.909912  2361.699951  2280.000000  2330.310059  2330.310059   \n",
       "2022-05-14  2296.909912  2361.699951  2280.000000  2330.310059  2330.310059   \n",
       "2022-05-15  2296.909912  2361.699951  2280.000000  2330.310059  2330.310059   \n",
       "2022-05-16  2307.679932  2332.149902  2286.699951  2295.850098  2295.850098   \n",
       "\n",
       "               Volume    DateCol  \n",
       "Date                              \n",
       "2021-05-17   992100.0 2021-05-17  \n",
       "2021-05-18   865100.0 2021-05-18  \n",
       "2021-05-19   967500.0 2021-05-19  \n",
       "2021-05-20  1191600.0 2021-05-20  \n",
       "2021-05-21  1141600.0 2021-05-21  \n",
       "...               ...        ...  \n",
       "2022-05-12  2073200.0 2022-05-12  \n",
       "2022-05-13  1486000.0 2022-05-13  \n",
       "2022-05-14  1486000.0 2022-05-14  \n",
       "2022-05-15  1486000.0 2022-05-15  \n",
       "2022-05-16  1164100.0 2022-05-16  \n",
       "\n",
       "[365 rows x 7 columns]"
      ]
     },
     "execution_count": 152,
     "metadata": {},
     "output_type": "execute_result"
    }
   ],
   "source": [
    "fin_data"
   ]
  },
  {
   "cell_type": "code",
   "execution_count": 153,
   "id": "cdfcbfa6-efa9-4080-81a9-12065d74ec3d",
   "metadata": {},
   "outputs": [],
   "source": [
    "wixinfo = yf.Ticker(symbol).info\n"
   ]
  },
  {
   "cell_type": "code",
   "execution_count": 159,
   "id": "07b5fd0f-914a-4963-9f4c-a633b30e24f8",
   "metadata": {},
   "outputs": [
    {
     "data": {
      "text/plain": [
       "{'zip': '94043',\n",
       " 'sector': 'Communication Services',\n",
       " 'fullTimeEmployees': 163906,\n",
       " 'longBusinessSummary': 'Alphabet Inc. provides various products and platforms in the United States, Europe, the Middle East, Africa, the Asia-Pacific, Canada, and Latin America. It operates through Google Services, Google Cloud, and Other Bets segments. The Google Services segment offers products and services, including ads, Android, Chrome, hardware, Gmail, Google Drive, Google Maps, Google Photos, Google Play, Search, and YouTube. It is also involved in the sale of apps and in-app purchases and digital content in the Google Play store; and Fitbit wearable devices, Google Nest home products, Pixel phones, and other devices, as well as in the provision of YouTube non-advertising services. The Google Cloud segment offers infrastructure, platform, and other services; Google Workspace that include cloud-based collaboration tools for enterprises, such as Gmail, Docs, Drive, Calendar, and Meet; and other services for enterprise customers. The Other Bets segment sells health technology and internet services. The company was founded in 1998 and is headquartered in Mountain View, California.',\n",
       " 'city': 'Mountain View',\n",
       " 'phone': '650 253 0000',\n",
       " 'state': 'CA',\n",
       " 'country': 'United States',\n",
       " 'companyOfficers': [],\n",
       " 'website': 'https://www.abc.xyz',\n",
       " 'maxAge': 1,\n",
       " 'address1': '1600 Amphitheatre Parkway',\n",
       " 'industry': 'Internet Content & Information',\n",
       " 'ebitdaMargins': 0.35452998,\n",
       " 'profitMargins': 0.27573,\n",
       " 'grossMargins': 0.56929,\n",
       " 'operatingCashflow': 97468997632,\n",
       " 'revenueGrowth': 0.23,\n",
       " 'operatingMargins': 0.3047,\n",
       " 'ebitda': 95841001472,\n",
       " 'targetLowPrice': 2658,\n",
       " 'recommendationKey': 'buy',\n",
       " 'grossProfits': 146698000000,\n",
       " 'freeCashflow': 52881248256,\n",
       " 'targetMedianPrice': 3300,\n",
       " 'currentPrice': 2280.3357,\n",
       " 'earningsGrowth': -0.063,\n",
       " 'currentRatio': 2.871,\n",
       " 'returnOnAssets': 0.15049,\n",
       " 'numberOfAnalystOpinions': 45,\n",
       " 'targetMeanPrice': 3303.83,\n",
       " 'debtToEquity': 11.26,\n",
       " 'returnOnEquity': 0.308,\n",
       " 'targetHighPrice': 4533.34,\n",
       " 'totalCash': 133970001920,\n",
       " 'totalDebt': 28601999360,\n",
       " 'totalRevenue': 270334001152,\n",
       " 'totalCashPerShare': 203.447,\n",
       " 'financialCurrency': 'USD',\n",
       " 'revenuePerShare': 406.892,\n",
       " 'quickRatio': 2.738,\n",
       " 'recommendationMean': 1.7,\n",
       " 'exchange': 'NMS',\n",
       " 'shortName': 'Alphabet Inc.',\n",
       " 'longName': 'Alphabet Inc.',\n",
       " 'exchangeTimezoneName': 'America/New_York',\n",
       " 'exchangeTimezoneShortName': 'EDT',\n",
       " 'isEsgPopulated': False,\n",
       " 'gmtOffSetMilliseconds': '-14400000',\n",
       " 'quoteType': 'EQUITY',\n",
       " 'symbol': 'GOOGL',\n",
       " 'messageBoardId': 'finmb_29096',\n",
       " 'market': 'us_market',\n",
       " 'annualHoldingsTurnover': None,\n",
       " 'enterpriseToRevenue': 5.169,\n",
       " 'beta3Year': None,\n",
       " 'enterpriseToEbitda': 14.581,\n",
       " '52WeekChange': 0.025516152,\n",
       " 'morningStarRiskRating': None,\n",
       " 'forwardEps': 132.66,\n",
       " 'revenueQuarterlyGrowth': None,\n",
       " 'sharesOutstanding': 300764000,\n",
       " 'fundInceptionDate': None,\n",
       " 'annualReportExpenseRatio': None,\n",
       " 'totalAssets': None,\n",
       " 'bookValue': 385.577,\n",
       " 'sharesShort': 2509573,\n",
       " 'sharesPercentSharesOut': 0.0038,\n",
       " 'fundFamily': None,\n",
       " 'lastFiscalYearEnd': 1640908800,\n",
       " 'heldPercentInstitutions': 0.79002,\n",
       " 'netIncomeToCommon': 74538999808,\n",
       " 'trailingEps': 110.585,\n",
       " 'lastDividendValue': None,\n",
       " 'SandP52WeekChange': -0.00651896,\n",
       " 'priceToBook': 5.9140863,\n",
       " 'heldPercentInsiders': 0.07704,\n",
       " 'nextFiscalYearEnd': 1703980800,\n",
       " 'yield': None,\n",
       " 'mostRecentQuarter': 1648684800,\n",
       " 'shortRatio': 1.35,\n",
       " 'sharesShortPreviousMonthDate': 1648684800,\n",
       " 'floatShares': 574178968,\n",
       " 'beta': 1.060784,\n",
       " 'enterpriseValue': 1397453881344,\n",
       " 'priceHint': 2,\n",
       " 'threeYearAverageReturn': None,\n",
       " 'lastSplitDate': 1396483200,\n",
       " 'lastSplitFactor': '1998:1000',\n",
       " 'legalType': None,\n",
       " 'lastDividendDate': None,\n",
       " 'morningStarOverallRating': None,\n",
       " 'earningsQuarterlyGrowth': -0.083,\n",
       " 'priceToSalesTrailing12Months': 5.559802,\n",
       " 'dateShortInterest': 1651190400,\n",
       " 'pegRatio': 1.22,\n",
       " 'ytdReturn': None,\n",
       " 'forwardPE': 17.189323,\n",
       " 'lastCapGain': None,\n",
       " 'shortPercentOfFloat': 0.0084,\n",
       " 'sharesShortPriorMonth': 2011649,\n",
       " 'impliedSharesOutstanding': 0,\n",
       " 'category': None,\n",
       " 'fiveYearAverageReturn': None,\n",
       " 'previousClose': 2329.46,\n",
       " 'regularMarketOpen': 2300,\n",
       " 'twoHundredDayAverage': 2746.3093,\n",
       " 'trailingAnnualDividendYield': 0,\n",
       " 'payoutRatio': 0,\n",
       " 'volume24Hr': None,\n",
       " 'regularMarketDayHigh': 2306.73,\n",
       " 'navPrice': None,\n",
       " 'averageDailyVolume10Day': 1957210,\n",
       " 'regularMarketPreviousClose': 2329.46,\n",
       " 'fiftyDayAverage': 2557.5405,\n",
       " 'trailingAnnualDividendRate': 0,\n",
       " 'open': 2300,\n",
       " 'toCurrency': None,\n",
       " 'averageVolume10days': 1957210,\n",
       " 'expireDate': None,\n",
       " 'algorithm': None,\n",
       " 'dividendRate': None,\n",
       " 'exDividendDate': None,\n",
       " 'circulatingSupply': None,\n",
       " 'startDate': None,\n",
       " 'regularMarketDayLow': 2277.06,\n",
       " 'currency': 'USD',\n",
       " 'trailingPE': 20.62066,\n",
       " 'regularMarketVolume': 398716,\n",
       " 'lastMarket': None,\n",
       " 'maxSupply': None,\n",
       " 'openInterest': None,\n",
       " 'marketCap': 1503003541504,\n",
       " 'volumeAllCurrencies': None,\n",
       " 'strikePrice': None,\n",
       " 'averageVolume': 1791433,\n",
       " 'dayLow': 2277.06,\n",
       " 'ask': 2289.57,\n",
       " 'askSize': 900,\n",
       " 'volume': 398716,\n",
       " 'fiftyTwoWeekHigh': 3030.93,\n",
       " 'fromCurrency': None,\n",
       " 'fiveYearAvgDividendYield': None,\n",
       " 'fiftyTwoWeekLow': 2196.49,\n",
       " 'bid': 2287.83,\n",
       " 'tradeable': False,\n",
       " 'dividendYield': None,\n",
       " 'bidSize': 800,\n",
       " 'dayHigh': 2306.73,\n",
       " 'regularMarketPrice': 2280.3357,\n",
       " 'preMarketPrice': 2297.97,\n",
       " 'logo_url': 'https://logo.clearbit.com/abc.xyz',\n",
       " 'trailingPegRatio': 0.8129}"
      ]
     },
     "execution_count": 159,
     "metadata": {},
     "output_type": "execute_result"
    }
   ],
   "source": [
    "yf.Ticker('GOOGL').info\n",
    "# marketcap\n",
    "# industry\n",
    "# sector"
   ]
  },
  {
   "cell_type": "code",
   "execution_count": 154,
   "id": "e2e26bde-65a1-4733-bf4f-9d7dcc379311",
   "metadata": {},
   "outputs": [
    {
     "data": {
      "text/plain": [
       "{'zip': '94043',\n",
       " 'sector': 'Communication Services',\n",
       " 'fullTimeEmployees': 163906,\n",
       " 'longBusinessSummary': 'Alphabet Inc. provides various products and platforms in the United States, Europe, the Middle East, Africa, the Asia-Pacific, Canada, and Latin America. It operates through Google Services, Google Cloud, and Other Bets segments. The Google Services segment offers products and services, including ads, Android, Chrome, hardware, Gmail, Google Drive, Google Maps, Google Photos, Google Play, Search, and YouTube. It is also involved in the sale of apps and in-app purchases and digital content in the Google Play store; and Fitbit wearable devices, Google Nest home products, Pixel phones, and other devices, as well as in the provision of YouTube non-advertising services. The Google Cloud segment offers infrastructure, platform, and other services; Google Workspace that include cloud-based collaboration tools for enterprises, such as Gmail, Docs, Drive, Calendar, and Meet; and other services for enterprise customers. The Other Bets segment sells health technology and internet services. The company was founded in 1998 and is headquartered in Mountain View, California.',\n",
       " 'city': 'Mountain View',\n",
       " 'phone': '650 253 0000',\n",
       " 'state': 'CA',\n",
       " 'country': 'United States',\n",
       " 'companyOfficers': [],\n",
       " 'website': 'https://www.abc.xyz',\n",
       " 'maxAge': 1,\n",
       " 'address1': '1600 Amphitheatre Parkway',\n",
       " 'industry': 'Internet Content & Information',\n",
       " 'ebitdaMargins': 0.35452998,\n",
       " 'profitMargins': 0.27573,\n",
       " 'grossMargins': 0.56929,\n",
       " 'operatingCashflow': 97468997632,\n",
       " 'revenueGrowth': 0.23,\n",
       " 'operatingMargins': 0.3047,\n",
       " 'ebitda': 95841001472,\n",
       " 'targetLowPrice': 2950,\n",
       " 'recommendationKey': 'strong_buy',\n",
       " 'grossProfits': 146698000000,\n",
       " 'freeCashflow': 52881248256,\n",
       " 'targetMedianPrice': 3150,\n",
       " 'currentPrice': 2289.8896,\n",
       " 'earningsGrowth': -0.063,\n",
       " 'currentRatio': 2.871,\n",
       " 'returnOnAssets': 0.15049,\n",
       " 'numberOfAnalystOpinions': 9,\n",
       " 'targetMeanPrice': 3168.89,\n",
       " 'debtToEquity': 11.26,\n",
       " 'returnOnEquity': 0.308,\n",
       " 'targetHighPrice': 3600,\n",
       " 'totalCash': 133970001920,\n",
       " 'totalDebt': 28601999360,\n",
       " 'totalRevenue': 270334001152,\n",
       " 'totalCashPerShare': 203.447,\n",
       " 'financialCurrency': 'USD',\n",
       " 'revenuePerShare': 406.892,\n",
       " 'quickRatio': 2.738,\n",
       " 'recommendationMean': 1.5,\n",
       " 'exchange': 'NMS',\n",
       " 'shortName': 'Alphabet Inc.',\n",
       " 'longName': 'Alphabet Inc.',\n",
       " 'exchangeTimezoneName': 'America/New_York',\n",
       " 'exchangeTimezoneShortName': 'EDT',\n",
       " 'isEsgPopulated': False,\n",
       " 'gmtOffSetMilliseconds': '-14400000',\n",
       " 'quoteType': 'EQUITY',\n",
       " 'symbol': 'GOOG',\n",
       " 'messageBoardId': 'finmb_29096',\n",
       " 'market': 'us_market',\n",
       " 'annualHoldingsTurnover': None,\n",
       " 'enterpriseToRevenue': 5.211,\n",
       " 'beta3Year': None,\n",
       " 'enterpriseToEbitda': 14.699,\n",
       " '52WeekChange': 0.010967135,\n",
       " 'morningStarRiskRating': None,\n",
       " 'forwardEps': 132.65,\n",
       " 'revenueQuarterlyGrowth': None,\n",
       " 'sharesOutstanding': 313376000,\n",
       " 'fundInceptionDate': None,\n",
       " 'annualReportExpenseRatio': None,\n",
       " 'totalAssets': None,\n",
       " 'bookValue': 385.577,\n",
       " 'sharesShort': 1737779,\n",
       " 'sharesPercentSharesOut': 0.0026,\n",
       " 'fundFamily': None,\n",
       " 'lastFiscalYearEnd': 1640908800,\n",
       " 'heldPercentInstitutions': 0.64926004,\n",
       " 'netIncomeToCommon': 74538999808,\n",
       " 'trailingEps': 110.585,\n",
       " 'lastDividendValue': None,\n",
       " 'SandP52WeekChange': -0.00651896,\n",
       " 'priceToBook': 5.9388647,\n",
       " 'heldPercentInsiders': 0.00037999998,\n",
       " 'nextFiscalYearEnd': 1703980800,\n",
       " 'yield': None,\n",
       " 'mostRecentQuarter': 1648684800,\n",
       " 'shortRatio': 1.24,\n",
       " 'sharesShortPreviousMonthDate': 1648684800,\n",
       " 'floatShares': 574178968,\n",
       " 'beta': 1.060784,\n",
       " 'enterpriseValue': 1408740491264,\n",
       " 'priceHint': 2,\n",
       " 'threeYearAverageReturn': None,\n",
       " 'lastSplitDate': 1430092800,\n",
       " 'lastSplitFactor': '10027455:10000000',\n",
       " 'legalType': None,\n",
       " 'lastDividendDate': None,\n",
       " 'morningStarOverallRating': None,\n",
       " 'earningsQuarterlyGrowth': -0.083,\n",
       " 'priceToSalesTrailing12Months': 5.57216,\n",
       " 'dateShortInterest': 1651190400,\n",
       " 'pegRatio': 1.23,\n",
       " 'ytdReturn': None,\n",
       " 'forwardPE': 17.262644,\n",
       " 'lastCapGain': None,\n",
       " 'shortPercentOfFloat': None,\n",
       " 'sharesShortPriorMonth': 1397898,\n",
       " 'impliedSharesOutstanding': 0,\n",
       " 'category': None,\n",
       " 'fiveYearAverageReturn': None,\n",
       " 'previousClose': 2334.03,\n",
       " 'regularMarketOpen': 2304.75,\n",
       " 'twoHundredDayAverage': 2755.274,\n",
       " 'trailingAnnualDividendYield': 0,\n",
       " 'payoutRatio': 0,\n",
       " 'volume24Hr': None,\n",
       " 'regularMarketDayHigh': 2313.9133,\n",
       " 'navPrice': None,\n",
       " 'averageDailyVolume10Day': 1648950,\n",
       " 'regularMarketPreviousClose': 2334.03,\n",
       " 'fiftyDayAverage': 2566.6646,\n",
       " 'trailingAnnualDividendRate': 0,\n",
       " 'open': 2304.75,\n",
       " 'toCurrency': None,\n",
       " 'averageVolume10days': 1648950,\n",
       " 'expireDate': None,\n",
       " 'algorithm': None,\n",
       " 'dividendRate': None,\n",
       " 'exDividendDate': None,\n",
       " 'circulatingSupply': None,\n",
       " 'startDate': None,\n",
       " 'regularMarketDayLow': 2284.11,\n",
       " 'currency': 'USD',\n",
       " 'trailingPE': 20.707054,\n",
       " 'regularMarketVolume': 346730,\n",
       " 'lastMarket': None,\n",
       " 'maxSupply': None,\n",
       " 'openInterest': None,\n",
       " 'marketCap': 1506344304640,\n",
       " 'volumeAllCurrencies': None,\n",
       " 'strikePrice': None,\n",
       " 'averageVolume': 1456698,\n",
       " 'dayLow': 2284.11,\n",
       " 'ask': 2302.03,\n",
       " 'askSize': 800,\n",
       " 'volume': 346730,\n",
       " 'fiftyTwoWeekHigh': 3042,\n",
       " 'fromCurrency': None,\n",
       " 'fiveYearAvgDividendYield': None,\n",
       " 'fiftyTwoWeekLow': 2202.27,\n",
       " 'bid': 2299.28,\n",
       " 'tradeable': False,\n",
       " 'dividendYield': None,\n",
       " 'bidSize': 800,\n",
       " 'dayHigh': 2313.9133,\n",
       " 'regularMarketPrice': 2289.8896,\n",
       " 'preMarketPrice': 2306.29,\n",
       " 'logo_url': 'https://logo.clearbit.com/abc.xyz',\n",
       " 'trailingPegRatio': 0.8154}"
      ]
     },
     "execution_count": 154,
     "metadata": {},
     "output_type": "execute_result"
    }
   ],
   "source": [
    "wixinfo"
   ]
  },
  {
   "cell_type": "code",
   "execution_count": 145,
   "id": "a56fdf69-1166-4dc3-a743-4d3c9234d489",
   "metadata": {},
   "outputs": [],
   "source": [
    "with open('dash/data/wix.json', 'w') as fp:\n",
    "    json.dump(wixinfo, fp)\n"
   ]
  },
  {
   "cell_type": "code",
   "execution_count": 146,
   "id": "9ffc4b23-5da4-4f40-81d7-d24f54e526c1",
   "metadata": {},
   "outputs": [
    {
     "data": {
      "text/plain": [
       "{'companyOfficers': [],\n",
       " 'twitter': '\"https://twitter.com/ethereum\"',\n",
       " 'name': 'Ethereum',\n",
       " 'startDate': 1438905600,\n",
       " 'description': 'Ethereum (ETH) is a cryptocurrency . Users are able to generate ETH through the process of mining. Ethereum has a current supply of 120,807,342.499. The last known price of Ethereum is 2,032.97470184 USD and is down -2.98 over the last 24 hours. It is currently trading on 5717 active market(s) with $21,463,172,594.81 traded over the last 24 hours. More information can be found at https://www.ethereum.org/.',\n",
       " 'maxAge': 1,\n",
       " 'exchange': 'CCC',\n",
       " 'shortName': 'Ethereum USD',\n",
       " 'exchangeTimezoneName': 'UTC',\n",
       " 'exchangeTimezoneShortName': 'UTC',\n",
       " 'isEsgPopulated': False,\n",
       " 'gmtOffSetMilliseconds': '0',\n",
       " 'quoteType': 'CRYPTOCURRENCY',\n",
       " 'symbol': 'ETH-USD',\n",
       " 'messageBoardId': 'finmb_ETH_CCC',\n",
       " 'market': 'ccc_market',\n",
       " 'previousClose': 2022.5414,\n",
       " 'regularMarketOpen': 2022.5414,\n",
       " 'twoHundredDayAverage': 3336.939,\n",
       " 'trailingAnnualDividendYield': None,\n",
       " 'payoutRatio': None,\n",
       " 'volume24Hr': 18132432896,\n",
       " 'regularMarketDayHigh': 2109.17,\n",
       " 'navPrice': None,\n",
       " 'averageDailyVolume10Day': 27349288088,\n",
       " 'totalAssets': None,\n",
       " 'regularMarketPreviousClose': 2022.5414,\n",
       " 'fiftyDayAverage': 2903.6785,\n",
       " 'trailingAnnualDividendRate': None,\n",
       " 'open': 2022.5414,\n",
       " 'toCurrency': 'USD=X',\n",
       " 'averageVolume10days': 27349288088,\n",
       " 'expireDate': None,\n",
       " 'yield': None,\n",
       " 'algorithm': None,\n",
       " 'dividendRate': None,\n",
       " 'exDividendDate': None,\n",
       " 'beta': None,\n",
       " 'circulatingSupply': 120817320,\n",
       " 'regularMarketDayLow': 2016.7346,\n",
       " 'priceHint': 2,\n",
       " 'currency': 'USD',\n",
       " 'regularMarketVolume': 18132432896,\n",
       " 'lastMarket': 'CoinMarketCap',\n",
       " 'maxSupply': None,\n",
       " 'openInterest': None,\n",
       " 'marketCap': 243656474624,\n",
       " 'volumeAllCurrencies': 18132432896,\n",
       " 'strikePrice': None,\n",
       " 'averageVolume': 16956971733,\n",
       " 'priceToSalesTrailing12Months': None,\n",
       " 'dayLow': 2016.7346,\n",
       " 'ask': None,\n",
       " 'ytdReturn': None,\n",
       " 'askSize': None,\n",
       " 'volume': 18132432896,\n",
       " 'fiftyTwoWeekHigh': 4891.7046,\n",
       " 'forwardPE': None,\n",
       " 'fromCurrency': 'ETH',\n",
       " 'fiveYearAvgDividendYield': None,\n",
       " 'fiftyTwoWeekLow': 1707.6006,\n",
       " 'bid': None,\n",
       " 'tradeable': False,\n",
       " 'dividendYield': None,\n",
       " 'bidSize': None,\n",
       " 'dayHigh': 2109.17,\n",
       " 'regularMarketPrice': 2016.7346,\n",
       " 'preMarketPrice': None,\n",
       " 'logo_url': ''}"
      ]
     },
     "execution_count": 146,
     "metadata": {},
     "output_type": "execute_result"
    }
   ],
   "source": [
    "json_object = {}\n",
    "with open('dash/data/wix.json', 'r') as fp:\n",
    "    json_object = json.load(fp)\n",
    "json_object\n"
   ]
  },
  {
   "cell_type": "code",
   "execution_count": 150,
   "id": "d1025fb4-b6ea-4bd5-ae6b-5721d7eca7f5",
   "metadata": {},
   "outputs": [
    {
     "data": {
      "text/plain": [
       "False"
      ]
     },
     "execution_count": 150,
     "metadata": {},
     "output_type": "execute_result"
    }
   ],
   "source": [
    "'longName' in json_object.keys() "
   ]
  },
  {
   "cell_type": "markdown",
   "id": "12828df8-500a-46ab-93c6-99d03bcf42f9",
   "metadata": {},
   "source": [
    "## Models"
   ]
  },
  {
   "cell_type": "code",
   "execution_count": 97,
   "id": "e8af1391-c725-4fb5-a741-de8e3612c7bd",
   "metadata": {},
   "outputs": [],
   "source": [
    "def shift_split_data(df_, target_col, fitsize=7):\n",
    "    df = df_.copy()\n",
    "    ## Date_Y is the date being predicted\n",
    "    ## The corresponding Date_X of the same row is the previous date\n",
    "    df['Date_Y'] = df['DateCol']+ pd.DateOffset(days=1) \n",
    "    df['Y'] = df[target_col].shift(periods=-1)\n",
    "    df.rename(columns={'DateCol':'Date_X'}, inplace=True)\n",
    "    \n",
    "    ## last fitsize days to fit for prediction on the next day\n",
    "    df_fit = df.iloc[-fitsize:]\n",
    "    \n",
    "    return df_fit\n",
    "    \n",
    "    "
   ]
  },
  {
   "cell_type": "code",
   "execution_count": 98,
   "id": "ea1a7f0c-dbc4-45ef-a4dc-95d60f00de36",
   "metadata": {},
   "outputs": [
    {
     "data": {
      "text/html": [
       "<div>\n",
       "<style scoped>\n",
       "    .dataframe tbody tr th:only-of-type {\n",
       "        vertical-align: middle;\n",
       "    }\n",
       "\n",
       "    .dataframe tbody tr th {\n",
       "        vertical-align: top;\n",
       "    }\n",
       "\n",
       "    .dataframe thead th {\n",
       "        text-align: right;\n",
       "    }\n",
       "</style>\n",
       "<table border=\"1\" class=\"dataframe\">\n",
       "  <thead>\n",
       "    <tr style=\"text-align: right;\">\n",
       "      <th></th>\n",
       "      <th>Open</th>\n",
       "      <th>High</th>\n",
       "      <th>Low</th>\n",
       "      <th>Close</th>\n",
       "      <th>Adj Close</th>\n",
       "      <th>Volume</th>\n",
       "      <th>DateCol</th>\n",
       "    </tr>\n",
       "    <tr>\n",
       "      <th>Date</th>\n",
       "      <th></th>\n",
       "      <th></th>\n",
       "      <th></th>\n",
       "      <th></th>\n",
       "      <th></th>\n",
       "      <th></th>\n",
       "      <th></th>\n",
       "    </tr>\n",
       "  </thead>\n",
       "  <tbody>\n",
       "    <tr>\n",
       "      <th>2021-05-17</th>\n",
       "      <td>221.279999</td>\n",
       "      <td>225.740005</td>\n",
       "      <td>213.119995</td>\n",
       "      <td>224.779999</td>\n",
       "      <td>224.779999</td>\n",
       "      <td>1762600.0</td>\n",
       "      <td>2021-05-17</td>\n",
       "    </tr>\n",
       "    <tr>\n",
       "      <th>2021-05-18</th>\n",
       "      <td>227.705002</td>\n",
       "      <td>233.660004</td>\n",
       "      <td>224.649994</td>\n",
       "      <td>226.580002</td>\n",
       "      <td>226.580002</td>\n",
       "      <td>1174300.0</td>\n",
       "      <td>2021-05-18</td>\n",
       "    </tr>\n",
       "    <tr>\n",
       "      <th>2021-05-19</th>\n",
       "      <td>221.020004</td>\n",
       "      <td>235.800003</td>\n",
       "      <td>218.500000</td>\n",
       "      <td>234.669998</td>\n",
       "      <td>234.669998</td>\n",
       "      <td>1068600.0</td>\n",
       "      <td>2021-05-19</td>\n",
       "    </tr>\n",
       "    <tr>\n",
       "      <th>2021-05-20</th>\n",
       "      <td>236.660004</td>\n",
       "      <td>250.570007</td>\n",
       "      <td>236.500000</td>\n",
       "      <td>247.570007</td>\n",
       "      <td>247.570007</td>\n",
       "      <td>1317200.0</td>\n",
       "      <td>2021-05-20</td>\n",
       "    </tr>\n",
       "    <tr>\n",
       "      <th>2021-05-21</th>\n",
       "      <td>248.889999</td>\n",
       "      <td>252.095001</td>\n",
       "      <td>243.000000</td>\n",
       "      <td>248.160004</td>\n",
       "      <td>248.160004</td>\n",
       "      <td>958900.0</td>\n",
       "      <td>2021-05-21</td>\n",
       "    </tr>\n",
       "    <tr>\n",
       "      <th>...</th>\n",
       "      <td>...</td>\n",
       "      <td>...</td>\n",
       "      <td>...</td>\n",
       "      <td>...</td>\n",
       "      <td>...</td>\n",
       "      <td>...</td>\n",
       "      <td>...</td>\n",
       "    </tr>\n",
       "    <tr>\n",
       "      <th>2022-05-12</th>\n",
       "      <td>57.959999</td>\n",
       "      <td>64.430000</td>\n",
       "      <td>56.240002</td>\n",
       "      <td>63.279999</td>\n",
       "      <td>63.279999</td>\n",
       "      <td>3061400.0</td>\n",
       "      <td>2022-05-12</td>\n",
       "    </tr>\n",
       "    <tr>\n",
       "      <th>2022-05-13</th>\n",
       "      <td>65.250000</td>\n",
       "      <td>71.879997</td>\n",
       "      <td>65.250000</td>\n",
       "      <td>71.190002</td>\n",
       "      <td>71.190002</td>\n",
       "      <td>2962100.0</td>\n",
       "      <td>2022-05-13</td>\n",
       "    </tr>\n",
       "    <tr>\n",
       "      <th>2022-05-14</th>\n",
       "      <td>65.250000</td>\n",
       "      <td>71.879997</td>\n",
       "      <td>65.250000</td>\n",
       "      <td>71.190002</td>\n",
       "      <td>71.190002</td>\n",
       "      <td>2962100.0</td>\n",
       "      <td>2022-05-14</td>\n",
       "    </tr>\n",
       "    <tr>\n",
       "      <th>2022-05-15</th>\n",
       "      <td>65.250000</td>\n",
       "      <td>71.879997</td>\n",
       "      <td>65.250000</td>\n",
       "      <td>71.190002</td>\n",
       "      <td>71.190002</td>\n",
       "      <td>2962100.0</td>\n",
       "      <td>2022-05-15</td>\n",
       "    </tr>\n",
       "    <tr>\n",
       "      <th>2022-05-16</th>\n",
       "      <td>65.250000</td>\n",
       "      <td>74.000000</td>\n",
       "      <td>67.129997</td>\n",
       "      <td>70.339996</td>\n",
       "      <td>70.339996</td>\n",
       "      <td>526923.0</td>\n",
       "      <td>2022-05-16</td>\n",
       "    </tr>\n",
       "  </tbody>\n",
       "</table>\n",
       "<p>365 rows × 7 columns</p>\n",
       "</div>"
      ],
      "text/plain": [
       "                  Open        High         Low       Close   Adj Close  \\\n",
       "Date                                                                     \n",
       "2021-05-17  221.279999  225.740005  213.119995  224.779999  224.779999   \n",
       "2021-05-18  227.705002  233.660004  224.649994  226.580002  226.580002   \n",
       "2021-05-19  221.020004  235.800003  218.500000  234.669998  234.669998   \n",
       "2021-05-20  236.660004  250.570007  236.500000  247.570007  247.570007   \n",
       "2021-05-21  248.889999  252.095001  243.000000  248.160004  248.160004   \n",
       "...                ...         ...         ...         ...         ...   \n",
       "2022-05-12   57.959999   64.430000   56.240002   63.279999   63.279999   \n",
       "2022-05-13   65.250000   71.879997   65.250000   71.190002   71.190002   \n",
       "2022-05-14   65.250000   71.879997   65.250000   71.190002   71.190002   \n",
       "2022-05-15   65.250000   71.879997   65.250000   71.190002   71.190002   \n",
       "2022-05-16   65.250000   74.000000   67.129997   70.339996   70.339996   \n",
       "\n",
       "               Volume    DateCol  \n",
       "Date                              \n",
       "2021-05-17  1762600.0 2021-05-17  \n",
       "2021-05-18  1174300.0 2021-05-18  \n",
       "2021-05-19  1068600.0 2021-05-19  \n",
       "2021-05-20  1317200.0 2021-05-20  \n",
       "2021-05-21   958900.0 2021-05-21  \n",
       "...               ...        ...  \n",
       "2022-05-12  3061400.0 2022-05-12  \n",
       "2022-05-13  2962100.0 2022-05-13  \n",
       "2022-05-14  2962100.0 2022-05-14  \n",
       "2022-05-15  2962100.0 2022-05-15  \n",
       "2022-05-16   526923.0 2022-05-16  \n",
       "\n",
       "[365 rows x 7 columns]"
      ]
     },
     "execution_count": 98,
     "metadata": {},
     "output_type": "execute_result"
    }
   ],
   "source": [
    "fin_data"
   ]
  },
  {
   "cell_type": "code",
   "execution_count": 100,
   "id": "00d331a5-4ebc-438d-a58d-def1b990969b",
   "metadata": {},
   "outputs": [
    {
     "data": {
      "text/html": [
       "<div>\n",
       "<style scoped>\n",
       "    .dataframe tbody tr th:only-of-type {\n",
       "        vertical-align: middle;\n",
       "    }\n",
       "\n",
       "    .dataframe tbody tr th {\n",
       "        vertical-align: top;\n",
       "    }\n",
       "\n",
       "    .dataframe thead th {\n",
       "        text-align: right;\n",
       "    }\n",
       "</style>\n",
       "<table border=\"1\" class=\"dataframe\">\n",
       "  <thead>\n",
       "    <tr style=\"text-align: right;\">\n",
       "      <th></th>\n",
       "      <th>Open</th>\n",
       "      <th>High</th>\n",
       "      <th>Low</th>\n",
       "      <th>Close</th>\n",
       "      <th>Adj Close</th>\n",
       "      <th>Volume</th>\n",
       "      <th>Date_X</th>\n",
       "      <th>Date_Y</th>\n",
       "      <th>Y</th>\n",
       "    </tr>\n",
       "    <tr>\n",
       "      <th>Date</th>\n",
       "      <th></th>\n",
       "      <th></th>\n",
       "      <th></th>\n",
       "      <th></th>\n",
       "      <th></th>\n",
       "      <th></th>\n",
       "      <th></th>\n",
       "      <th></th>\n",
       "      <th></th>\n",
       "    </tr>\n",
       "  </thead>\n",
       "  <tbody>\n",
       "    <tr>\n",
       "      <th>2022-05-10</th>\n",
       "      <td>68.010002</td>\n",
       "      <td>70.269997</td>\n",
       "      <td>63.099998</td>\n",
       "      <td>64.570000</td>\n",
       "      <td>64.570000</td>\n",
       "      <td>1435100.0</td>\n",
       "      <td>2022-05-10</td>\n",
       "      <td>2022-05-11</td>\n",
       "      <td>58.349998</td>\n",
       "    </tr>\n",
       "    <tr>\n",
       "      <th>2022-05-11</th>\n",
       "      <td>63.630001</td>\n",
       "      <td>64.430000</td>\n",
       "      <td>57.810001</td>\n",
       "      <td>58.349998</td>\n",
       "      <td>58.349998</td>\n",
       "      <td>2009200.0</td>\n",
       "      <td>2022-05-11</td>\n",
       "      <td>2022-05-12</td>\n",
       "      <td>63.279999</td>\n",
       "    </tr>\n",
       "    <tr>\n",
       "      <th>2022-05-12</th>\n",
       "      <td>57.959999</td>\n",
       "      <td>64.430000</td>\n",
       "      <td>56.240002</td>\n",
       "      <td>63.279999</td>\n",
       "      <td>63.279999</td>\n",
       "      <td>3061400.0</td>\n",
       "      <td>2022-05-12</td>\n",
       "      <td>2022-05-13</td>\n",
       "      <td>71.190002</td>\n",
       "    </tr>\n",
       "    <tr>\n",
       "      <th>2022-05-13</th>\n",
       "      <td>65.250000</td>\n",
       "      <td>71.879997</td>\n",
       "      <td>65.250000</td>\n",
       "      <td>71.190002</td>\n",
       "      <td>71.190002</td>\n",
       "      <td>2962100.0</td>\n",
       "      <td>2022-05-13</td>\n",
       "      <td>2022-05-14</td>\n",
       "      <td>71.190002</td>\n",
       "    </tr>\n",
       "    <tr>\n",
       "      <th>2022-05-14</th>\n",
       "      <td>65.250000</td>\n",
       "      <td>71.879997</td>\n",
       "      <td>65.250000</td>\n",
       "      <td>71.190002</td>\n",
       "      <td>71.190002</td>\n",
       "      <td>2962100.0</td>\n",
       "      <td>2022-05-14</td>\n",
       "      <td>2022-05-15</td>\n",
       "      <td>71.190002</td>\n",
       "    </tr>\n",
       "    <tr>\n",
       "      <th>2022-05-15</th>\n",
       "      <td>65.250000</td>\n",
       "      <td>71.879997</td>\n",
       "      <td>65.250000</td>\n",
       "      <td>71.190002</td>\n",
       "      <td>71.190002</td>\n",
       "      <td>2962100.0</td>\n",
       "      <td>2022-05-15</td>\n",
       "      <td>2022-05-16</td>\n",
       "      <td>70.339996</td>\n",
       "    </tr>\n",
       "    <tr>\n",
       "      <th>2022-05-16</th>\n",
       "      <td>65.250000</td>\n",
       "      <td>74.000000</td>\n",
       "      <td>67.129997</td>\n",
       "      <td>70.339996</td>\n",
       "      <td>70.339996</td>\n",
       "      <td>526923.0</td>\n",
       "      <td>2022-05-16</td>\n",
       "      <td>2022-05-17</td>\n",
       "      <td>NaN</td>\n",
       "    </tr>\n",
       "  </tbody>\n",
       "</table>\n",
       "</div>"
      ],
      "text/plain": [
       "                 Open       High        Low      Close  Adj Close     Volume  \\\n",
       "Date                                                                           \n",
       "2022-05-10  68.010002  70.269997  63.099998  64.570000  64.570000  1435100.0   \n",
       "2022-05-11  63.630001  64.430000  57.810001  58.349998  58.349998  2009200.0   \n",
       "2022-05-12  57.959999  64.430000  56.240002  63.279999  63.279999  3061400.0   \n",
       "2022-05-13  65.250000  71.879997  65.250000  71.190002  71.190002  2962100.0   \n",
       "2022-05-14  65.250000  71.879997  65.250000  71.190002  71.190002  2962100.0   \n",
       "2022-05-15  65.250000  71.879997  65.250000  71.190002  71.190002  2962100.0   \n",
       "2022-05-16  65.250000  74.000000  67.129997  70.339996  70.339996   526923.0   \n",
       "\n",
       "               Date_X     Date_Y          Y  \n",
       "Date                                         \n",
       "2022-05-10 2022-05-10 2022-05-11  58.349998  \n",
       "2022-05-11 2022-05-11 2022-05-12  63.279999  \n",
       "2022-05-12 2022-05-12 2022-05-13  71.190002  \n",
       "2022-05-13 2022-05-13 2022-05-14  71.190002  \n",
       "2022-05-14 2022-05-14 2022-05-15  71.190002  \n",
       "2022-05-15 2022-05-15 2022-05-16  70.339996  \n",
       "2022-05-16 2022-05-16 2022-05-17        NaN  "
      ]
     },
     "execution_count": 100,
     "metadata": {},
     "output_type": "execute_result"
    }
   ],
   "source": [
    "split_fin_data = shift_split_data(fin_data, 'Close')\n",
    "split_fin_data"
   ]
  },
  {
   "cell_type": "code",
   "execution_count": 107,
   "id": "6cd3311c-441b-468c-a416-5d446814259c",
   "metadata": {},
   "outputs": [
    {
     "data": {
      "text/html": [
       "<div>\n",
       "<style scoped>\n",
       "    .dataframe tbody tr th:only-of-type {\n",
       "        vertical-align: middle;\n",
       "    }\n",
       "\n",
       "    .dataframe tbody tr th {\n",
       "        vertical-align: top;\n",
       "    }\n",
       "\n",
       "    .dataframe thead th {\n",
       "        text-align: right;\n",
       "    }\n",
       "</style>\n",
       "<table border=\"1\" class=\"dataframe\">\n",
       "  <thead>\n",
       "    <tr style=\"text-align: right;\">\n",
       "      <th></th>\n",
       "      <th>Open</th>\n",
       "      <th>High</th>\n",
       "      <th>Low</th>\n",
       "      <th>Close</th>\n",
       "      <th>Adj Close</th>\n",
       "      <th>Volume</th>\n",
       "      <th>DateCol</th>\n",
       "    </tr>\n",
       "    <tr>\n",
       "      <th>Date</th>\n",
       "      <th></th>\n",
       "      <th></th>\n",
       "      <th></th>\n",
       "      <th></th>\n",
       "      <th></th>\n",
       "      <th></th>\n",
       "      <th></th>\n",
       "    </tr>\n",
       "  </thead>\n",
       "  <tbody>\n",
       "    <tr>\n",
       "      <th>2021-05-17</th>\n",
       "      <td>221.279999</td>\n",
       "      <td>225.740005</td>\n",
       "      <td>213.119995</td>\n",
       "      <td>224.779999</td>\n",
       "      <td>224.779999</td>\n",
       "      <td>1762600.0</td>\n",
       "      <td>2021-05-17</td>\n",
       "    </tr>\n",
       "    <tr>\n",
       "      <th>2021-05-18</th>\n",
       "      <td>227.705002</td>\n",
       "      <td>233.660004</td>\n",
       "      <td>224.649994</td>\n",
       "      <td>226.580002</td>\n",
       "      <td>226.580002</td>\n",
       "      <td>1174300.0</td>\n",
       "      <td>2021-05-18</td>\n",
       "    </tr>\n",
       "    <tr>\n",
       "      <th>2021-05-19</th>\n",
       "      <td>221.020004</td>\n",
       "      <td>235.800003</td>\n",
       "      <td>218.500000</td>\n",
       "      <td>234.669998</td>\n",
       "      <td>234.669998</td>\n",
       "      <td>1068600.0</td>\n",
       "      <td>2021-05-19</td>\n",
       "    </tr>\n",
       "    <tr>\n",
       "      <th>2021-05-20</th>\n",
       "      <td>236.660004</td>\n",
       "      <td>250.570007</td>\n",
       "      <td>236.500000</td>\n",
       "      <td>247.570007</td>\n",
       "      <td>247.570007</td>\n",
       "      <td>1317200.0</td>\n",
       "      <td>2021-05-20</td>\n",
       "    </tr>\n",
       "    <tr>\n",
       "      <th>2021-05-21</th>\n",
       "      <td>248.889999</td>\n",
       "      <td>252.095001</td>\n",
       "      <td>243.000000</td>\n",
       "      <td>248.160004</td>\n",
       "      <td>248.160004</td>\n",
       "      <td>958900.0</td>\n",
       "      <td>2021-05-21</td>\n",
       "    </tr>\n",
       "    <tr>\n",
       "      <th>...</th>\n",
       "      <td>...</td>\n",
       "      <td>...</td>\n",
       "      <td>...</td>\n",
       "      <td>...</td>\n",
       "      <td>...</td>\n",
       "      <td>...</td>\n",
       "      <td>...</td>\n",
       "    </tr>\n",
       "    <tr>\n",
       "      <th>2022-05-12</th>\n",
       "      <td>57.959999</td>\n",
       "      <td>64.430000</td>\n",
       "      <td>56.240002</td>\n",
       "      <td>63.279999</td>\n",
       "      <td>63.279999</td>\n",
       "      <td>3061400.0</td>\n",
       "      <td>2022-05-12</td>\n",
       "    </tr>\n",
       "    <tr>\n",
       "      <th>2022-05-13</th>\n",
       "      <td>65.250000</td>\n",
       "      <td>71.879997</td>\n",
       "      <td>65.250000</td>\n",
       "      <td>71.190002</td>\n",
       "      <td>71.190002</td>\n",
       "      <td>2962100.0</td>\n",
       "      <td>2022-05-13</td>\n",
       "    </tr>\n",
       "    <tr>\n",
       "      <th>2022-05-14</th>\n",
       "      <td>65.250000</td>\n",
       "      <td>71.879997</td>\n",
       "      <td>65.250000</td>\n",
       "      <td>71.190002</td>\n",
       "      <td>71.190002</td>\n",
       "      <td>2962100.0</td>\n",
       "      <td>2022-05-14</td>\n",
       "    </tr>\n",
       "    <tr>\n",
       "      <th>2022-05-15</th>\n",
       "      <td>65.250000</td>\n",
       "      <td>71.879997</td>\n",
       "      <td>65.250000</td>\n",
       "      <td>71.190002</td>\n",
       "      <td>71.190002</td>\n",
       "      <td>2962100.0</td>\n",
       "      <td>2022-05-15</td>\n",
       "    </tr>\n",
       "    <tr>\n",
       "      <th>2022-05-16</th>\n",
       "      <td>65.250000</td>\n",
       "      <td>74.000000</td>\n",
       "      <td>67.129997</td>\n",
       "      <td>70.339996</td>\n",
       "      <td>70.339996</td>\n",
       "      <td>526923.0</td>\n",
       "      <td>2022-05-16</td>\n",
       "    </tr>\n",
       "  </tbody>\n",
       "</table>\n",
       "<p>365 rows × 7 columns</p>\n",
       "</div>"
      ],
      "text/plain": [
       "                  Open        High         Low       Close   Adj Close  \\\n",
       "Date                                                                     \n",
       "2021-05-17  221.279999  225.740005  213.119995  224.779999  224.779999   \n",
       "2021-05-18  227.705002  233.660004  224.649994  226.580002  226.580002   \n",
       "2021-05-19  221.020004  235.800003  218.500000  234.669998  234.669998   \n",
       "2021-05-20  236.660004  250.570007  236.500000  247.570007  247.570007   \n",
       "2021-05-21  248.889999  252.095001  243.000000  248.160004  248.160004   \n",
       "...                ...         ...         ...         ...         ...   \n",
       "2022-05-12   57.959999   64.430000   56.240002   63.279999   63.279999   \n",
       "2022-05-13   65.250000   71.879997   65.250000   71.190002   71.190002   \n",
       "2022-05-14   65.250000   71.879997   65.250000   71.190002   71.190002   \n",
       "2022-05-15   65.250000   71.879997   65.250000   71.190002   71.190002   \n",
       "2022-05-16   65.250000   74.000000   67.129997   70.339996   70.339996   \n",
       "\n",
       "               Volume    DateCol  \n",
       "Date                              \n",
       "2021-05-17  1762600.0 2021-05-17  \n",
       "2021-05-18  1174300.0 2021-05-18  \n",
       "2021-05-19  1068600.0 2021-05-19  \n",
       "2021-05-20  1317200.0 2021-05-20  \n",
       "2021-05-21   958900.0 2021-05-21  \n",
       "...               ...        ...  \n",
       "2022-05-12  3061400.0 2022-05-12  \n",
       "2022-05-13  2962100.0 2022-05-13  \n",
       "2022-05-14  2962100.0 2022-05-14  \n",
       "2022-05-15  2962100.0 2022-05-15  \n",
       "2022-05-16   526923.0 2022-05-16  \n",
       "\n",
       "[365 rows x 7 columns]"
      ]
     },
     "execution_count": 107,
     "metadata": {},
     "output_type": "execute_result"
    }
   ],
   "source": [
    "fin_data"
   ]
  },
  {
   "cell_type": "code",
   "execution_count": 143,
   "id": "ccbe1e8a-6e28-41b6-b772-6b4a40e67ced",
   "metadata": {},
   "outputs": [],
   "source": [
    "fin_data.to_csv('./dash/data/fin_data.csv')"
   ]
  },
  {
   "cell_type": "code",
   "execution_count": 144,
   "id": "597c38fa-dfe0-4311-aeca-d97ca4dd440c",
   "metadata": {},
   "outputs": [
    {
     "data": {
      "text/html": [
       "<div>\n",
       "<style scoped>\n",
       "    .dataframe tbody tr th:only-of-type {\n",
       "        vertical-align: middle;\n",
       "    }\n",
       "\n",
       "    .dataframe tbody tr th {\n",
       "        vertical-align: top;\n",
       "    }\n",
       "\n",
       "    .dataframe thead th {\n",
       "        text-align: right;\n",
       "    }\n",
       "</style>\n",
       "<table border=\"1\" class=\"dataframe\">\n",
       "  <thead>\n",
       "    <tr style=\"text-align: right;\">\n",
       "      <th></th>\n",
       "      <th>Open</th>\n",
       "      <th>High</th>\n",
       "      <th>Low</th>\n",
       "      <th>Close</th>\n",
       "      <th>Adj Close</th>\n",
       "      <th>Volume</th>\n",
       "      <th>DateCol</th>\n",
       "    </tr>\n",
       "    <tr>\n",
       "      <th>Date</th>\n",
       "      <th></th>\n",
       "      <th></th>\n",
       "      <th></th>\n",
       "      <th></th>\n",
       "      <th></th>\n",
       "      <th></th>\n",
       "      <th></th>\n",
       "    </tr>\n",
       "  </thead>\n",
       "  <tbody>\n",
       "    <tr>\n",
       "      <th>2021-05-15</th>\n",
       "      <td>4075.951660</td>\n",
       "      <td>4129.185547</td>\n",
       "      <td>3638.122070</td>\n",
       "      <td>3638.122070</td>\n",
       "      <td>3638.122070</td>\n",
       "      <td>42422321751</td>\n",
       "      <td>2021-05-15</td>\n",
       "    </tr>\n",
       "    <tr>\n",
       "      <th>2021-05-16</th>\n",
       "      <td>3641.830811</td>\n",
       "      <td>3878.895996</td>\n",
       "      <td>3350.951660</td>\n",
       "      <td>3587.506104</td>\n",
       "      <td>3587.506104</td>\n",
       "      <td>47359478734</td>\n",
       "      <td>2021-05-16</td>\n",
       "    </tr>\n",
       "    <tr>\n",
       "      <th>2021-05-17</th>\n",
       "      <td>3581.343018</td>\n",
       "      <td>3587.765625</td>\n",
       "      <td>3129.008789</td>\n",
       "      <td>3282.397705</td>\n",
       "      <td>3282.397705</td>\n",
       "      <td>54061732774</td>\n",
       "      <td>2021-05-17</td>\n",
       "    </tr>\n",
       "    <tr>\n",
       "      <th>2021-05-18</th>\n",
       "      <td>3276.872314</td>\n",
       "      <td>3562.465088</td>\n",
       "      <td>3246.404053</td>\n",
       "      <td>3380.070068</td>\n",
       "      <td>3380.070068</td>\n",
       "      <td>40416525218</td>\n",
       "      <td>2021-05-18</td>\n",
       "    </tr>\n",
       "    <tr>\n",
       "      <th>2021-05-19</th>\n",
       "      <td>3382.657227</td>\n",
       "      <td>3437.935791</td>\n",
       "      <td>1952.460205</td>\n",
       "      <td>2460.679199</td>\n",
       "      <td>2460.679199</td>\n",
       "      <td>84482912776</td>\n",
       "      <td>2021-05-19</td>\n",
       "    </tr>\n",
       "    <tr>\n",
       "      <th>...</th>\n",
       "      <td>...</td>\n",
       "      <td>...</td>\n",
       "      <td>...</td>\n",
       "      <td>...</td>\n",
       "      <td>...</td>\n",
       "      <td>...</td>\n",
       "      <td>...</td>\n",
       "    </tr>\n",
       "    <tr>\n",
       "      <th>2022-05-12</th>\n",
       "      <td>2072.504639</td>\n",
       "      <td>2170.458008</td>\n",
       "      <td>1748.303101</td>\n",
       "      <td>1961.701538</td>\n",
       "      <td>1961.701538</td>\n",
       "      <td>42463486402</td>\n",
       "      <td>2022-05-12</td>\n",
       "    </tr>\n",
       "    <tr>\n",
       "      <th>2022-05-13</th>\n",
       "      <td>1960.122559</td>\n",
       "      <td>2139.713379</td>\n",
       "      <td>1941.975952</td>\n",
       "      <td>2014.418213</td>\n",
       "      <td>2014.418213</td>\n",
       "      <td>24816096567</td>\n",
       "      <td>2022-05-13</td>\n",
       "    </tr>\n",
       "    <tr>\n",
       "      <th>2022-05-14</th>\n",
       "      <td>2014.280640</td>\n",
       "      <td>2063.429932</td>\n",
       "      <td>1956.572998</td>\n",
       "      <td>2056.273926</td>\n",
       "      <td>2056.273926</td>\n",
       "      <td>15457044616</td>\n",
       "      <td>2022-05-14</td>\n",
       "    </tr>\n",
       "    <tr>\n",
       "      <th>2022-05-15</th>\n",
       "      <td>2056.183105</td>\n",
       "      <td>2147.194336</td>\n",
       "      <td>2008.162720</td>\n",
       "      <td>2145.706787</td>\n",
       "      <td>2145.706787</td>\n",
       "      <td>14846088335</td>\n",
       "      <td>2022-05-15</td>\n",
       "    </tr>\n",
       "    <tr>\n",
       "      <th>2022-05-16</th>\n",
       "      <td>2145.836914</td>\n",
       "      <td>2145.836914</td>\n",
       "      <td>1988.811768</td>\n",
       "      <td>2022.725952</td>\n",
       "      <td>2022.725952</td>\n",
       "      <td>21459552191</td>\n",
       "      <td>2022-05-16</td>\n",
       "    </tr>\n",
       "  </tbody>\n",
       "</table>\n",
       "<p>367 rows × 7 columns</p>\n",
       "</div>"
      ],
      "text/plain": [
       "                   Open         High          Low        Close    Adj Close  \\\n",
       "Date                                                                          \n",
       "2021-05-15  4075.951660  4129.185547  3638.122070  3638.122070  3638.122070   \n",
       "2021-05-16  3641.830811  3878.895996  3350.951660  3587.506104  3587.506104   \n",
       "2021-05-17  3581.343018  3587.765625  3129.008789  3282.397705  3282.397705   \n",
       "2021-05-18  3276.872314  3562.465088  3246.404053  3380.070068  3380.070068   \n",
       "2021-05-19  3382.657227  3437.935791  1952.460205  2460.679199  2460.679199   \n",
       "...                 ...          ...          ...          ...          ...   \n",
       "2022-05-12  2072.504639  2170.458008  1748.303101  1961.701538  1961.701538   \n",
       "2022-05-13  1960.122559  2139.713379  1941.975952  2014.418213  2014.418213   \n",
       "2022-05-14  2014.280640  2063.429932  1956.572998  2056.273926  2056.273926   \n",
       "2022-05-15  2056.183105  2147.194336  2008.162720  2145.706787  2145.706787   \n",
       "2022-05-16  2145.836914  2145.836914  1988.811768  2022.725952  2022.725952   \n",
       "\n",
       "                 Volume    DateCol  \n",
       "Date                                \n",
       "2021-05-15  42422321751 2021-05-15  \n",
       "2021-05-16  47359478734 2021-05-16  \n",
       "2021-05-17  54061732774 2021-05-17  \n",
       "2021-05-18  40416525218 2021-05-18  \n",
       "2021-05-19  84482912776 2021-05-19  \n",
       "...                 ...        ...  \n",
       "2022-05-12  42463486402 2022-05-12  \n",
       "2022-05-13  24816096567 2022-05-13  \n",
       "2022-05-14  15457044616 2022-05-14  \n",
       "2022-05-15  14846088335 2022-05-15  \n",
       "2022-05-16  21459552191 2022-05-16  \n",
       "\n",
       "[367 rows x 7 columns]"
      ]
     },
     "execution_count": 144,
     "metadata": {},
     "output_type": "execute_result"
    }
   ],
   "source": [
    "fin_data_ = pd.read_csv('./dash/data/fin_data.csv')\n",
    "fin_data_['Date'] = pd.to_datetime(fin_data_['Date'])\n",
    "fin_data_['DateCol'] = pd.to_datetime(fin_data_['DateCol'])\n",
    "\n",
    "fin_data_ = fin_data_.set_index('Date').asfreq('d')\n",
    "fin_data_"
   ]
  },
  {
   "cell_type": "code",
   "execution_count": 101,
   "id": "9d3d70f1-2b6e-40d6-860c-fd38e7bf19f8",
   "metadata": {},
   "outputs": [],
   "source": [
    "## Split X and Y\n",
    "\n",
    "split_fin_data = shift_split_data(fin_data, 'Close')\n",
    "\n",
    "Y = split_fin_data['Close']\n",
    "\n",
    "x_cols = [i for i in split_fin_data.columns.tolist() if i not in ['Date_X', 'Date_Y', 'Y'] ]\n",
    "X = split_fin_data[x_cols]"
   ]
  },
  {
   "cell_type": "code",
   "execution_count": 106,
   "id": "b13eb6da-355d-4c27-9b5e-aa2f0d160845",
   "metadata": {},
   "outputs": [
    {
     "data": {
      "text/html": [
       "<div>\n",
       "<style scoped>\n",
       "    .dataframe tbody tr th:only-of-type {\n",
       "        vertical-align: middle;\n",
       "    }\n",
       "\n",
       "    .dataframe tbody tr th {\n",
       "        vertical-align: top;\n",
       "    }\n",
       "\n",
       "    .dataframe thead th {\n",
       "        text-align: right;\n",
       "    }\n",
       "</style>\n",
       "<table border=\"1\" class=\"dataframe\">\n",
       "  <thead>\n",
       "    <tr style=\"text-align: right;\">\n",
       "      <th></th>\n",
       "      <th>Open</th>\n",
       "      <th>High</th>\n",
       "      <th>Low</th>\n",
       "      <th>Close</th>\n",
       "      <th>Adj Close</th>\n",
       "      <th>Volume</th>\n",
       "    </tr>\n",
       "    <tr>\n",
       "      <th>Date</th>\n",
       "      <th></th>\n",
       "      <th></th>\n",
       "      <th></th>\n",
       "      <th></th>\n",
       "      <th></th>\n",
       "      <th></th>\n",
       "    </tr>\n",
       "  </thead>\n",
       "  <tbody>\n",
       "    <tr>\n",
       "      <th>2022-05-10</th>\n",
       "      <td>68.010002</td>\n",
       "      <td>70.269997</td>\n",
       "      <td>63.099998</td>\n",
       "      <td>64.570000</td>\n",
       "      <td>64.570000</td>\n",
       "      <td>1435100.0</td>\n",
       "    </tr>\n",
       "    <tr>\n",
       "      <th>2022-05-11</th>\n",
       "      <td>63.630001</td>\n",
       "      <td>64.430000</td>\n",
       "      <td>57.810001</td>\n",
       "      <td>58.349998</td>\n",
       "      <td>58.349998</td>\n",
       "      <td>2009200.0</td>\n",
       "    </tr>\n",
       "    <tr>\n",
       "      <th>2022-05-12</th>\n",
       "      <td>57.959999</td>\n",
       "      <td>64.430000</td>\n",
       "      <td>56.240002</td>\n",
       "      <td>63.279999</td>\n",
       "      <td>63.279999</td>\n",
       "      <td>3061400.0</td>\n",
       "    </tr>\n",
       "    <tr>\n",
       "      <th>2022-05-13</th>\n",
       "      <td>65.250000</td>\n",
       "      <td>71.879997</td>\n",
       "      <td>65.250000</td>\n",
       "      <td>71.190002</td>\n",
       "      <td>71.190002</td>\n",
       "      <td>2962100.0</td>\n",
       "    </tr>\n",
       "    <tr>\n",
       "      <th>2022-05-14</th>\n",
       "      <td>65.250000</td>\n",
       "      <td>71.879997</td>\n",
       "      <td>65.250000</td>\n",
       "      <td>71.190002</td>\n",
       "      <td>71.190002</td>\n",
       "      <td>2962100.0</td>\n",
       "    </tr>\n",
       "    <tr>\n",
       "      <th>2022-05-15</th>\n",
       "      <td>65.250000</td>\n",
       "      <td>71.879997</td>\n",
       "      <td>65.250000</td>\n",
       "      <td>71.190002</td>\n",
       "      <td>71.190002</td>\n",
       "      <td>2962100.0</td>\n",
       "    </tr>\n",
       "    <tr>\n",
       "      <th>2022-05-16</th>\n",
       "      <td>65.250000</td>\n",
       "      <td>74.000000</td>\n",
       "      <td>67.129997</td>\n",
       "      <td>70.339996</td>\n",
       "      <td>70.339996</td>\n",
       "      <td>526923.0</td>\n",
       "    </tr>\n",
       "  </tbody>\n",
       "</table>\n",
       "</div>"
      ],
      "text/plain": [
       "                 Open       High        Low      Close  Adj Close     Volume\n",
       "Date                                                                        \n",
       "2022-05-10  68.010002  70.269997  63.099998  64.570000  64.570000  1435100.0\n",
       "2022-05-11  63.630001  64.430000  57.810001  58.349998  58.349998  2009200.0\n",
       "2022-05-12  57.959999  64.430000  56.240002  63.279999  63.279999  3061400.0\n",
       "2022-05-13  65.250000  71.879997  65.250000  71.190002  71.190002  2962100.0\n",
       "2022-05-14  65.250000  71.879997  65.250000  71.190002  71.190002  2962100.0\n",
       "2022-05-15  65.250000  71.879997  65.250000  71.190002  71.190002  2962100.0\n",
       "2022-05-16  65.250000  74.000000  67.129997  70.339996  70.339996   526923.0"
      ]
     },
     "execution_count": 106,
     "metadata": {},
     "output_type": "execute_result"
    }
   ],
   "source": [
    "X"
   ]
  },
  {
   "cell_type": "code",
   "execution_count": null,
   "id": "48b9c9cb-ee45-46d0-bc6a-a8f3b17c8e87",
   "metadata": {},
   "outputs": [],
   "source": [
    "params_gbr = {\n",
    " 'gradientboostingregressor__learning_rate': [0.13],\n",
    " 'gradientboostingregressor__loss': ['quantile'],\n",
    " 'gradientboostingregressor__max_depth': [1],\n",
    " 'gradientboostingregressor__max_features': ['auto'],\n",
    " 'gradientboostingregressor__n_estimators': [296],\n",
    " 'selectkbest__k': [17]}\n",
    "\n",
    "pipe_gbr = make_pipeline(StandardScaler(),\n",
    "                    SelectKBest(f_regression),\n",
    "                    GradientBoostingRegressor(random_state=RANDOM_STATE))\n",
    "\n",
    "\n",
    "# Setting up the grid search\n",
    "gs_gbr = GridSearchCV(pipe_gbr, \n",
    "                      params_gbr, \n",
    "                      n_jobs=-1, \n",
    "                      cv=tscv,\n",
    "                      scoring=score_func,\n",
    "                      refit=True\n",
    "                     )\n",
    "\n",
    "gs_gbr.fit(X, Y)"
   ]
  },
  {
   "cell_type": "code",
   "execution_count": null,
   "id": "a05e7194-59d0-4b1e-bfee-5239afbc2fa9",
   "metadata": {},
   "outputs": [],
   "source": []
  },
  {
   "cell_type": "code",
   "execution_count": null,
   "id": "120db5fc-62d4-4136-ab52-42ad87f136eb",
   "metadata": {},
   "outputs": [],
   "source": []
  },
  {
   "cell_type": "code",
   "execution_count": null,
   "id": "259314bc-4d39-4daf-ac85-9e65060f1f1d",
   "metadata": {},
   "outputs": [],
   "source": []
  },
  {
   "cell_type": "code",
   "execution_count": null,
   "id": "2ed4573f-f219-4026-a26c-3adfa8d3734f",
   "metadata": {},
   "outputs": [],
   "source": []
  },
  {
   "cell_type": "markdown",
   "id": "911560c9-deab-4d7e-a11d-9b2e75999f06",
   "metadata": {},
   "source": [
    "## Viz"
   ]
  },
  {
   "cell_type": "code",
   "execution_count": 59,
   "id": "ec69ee6e-b6f3-4ee2-bb93-9901f8b95a86",
   "metadata": {},
   "outputs": [],
   "source": [
    "import pandas as pd\n",
    "import numpy as np\n",
    "import plotly.graph_objects as go\n",
    "import json\n"
   ]
  },
  {
   "cell_type": "code",
   "execution_count": 70,
   "id": "1dabbfef-2e61-46a0-afed-dfbcf79f9ce8",
   "metadata": {},
   "outputs": [
    {
     "data": {
      "application/vnd.plotly.v1+json": {
       "config": {
        "plotlyServerURL": "https://plot.ly"
       },
       "data": [
        {
         "marker": {
          "color": "#333333"
         },
         "mode": "lines",
         "opacity": 0.25,
         "showlegend": false,
         "type": "scatter",
         "x": [
          "2021-05-17T00:00:00",
          "2021-05-18T00:00:00",
          "2021-05-19T00:00:00",
          "2021-05-20T00:00:00",
          "2021-05-21T00:00:00",
          "2021-05-22T00:00:00",
          "2021-05-23T00:00:00",
          "2021-05-24T00:00:00",
          "2021-05-25T00:00:00",
          "2021-05-26T00:00:00",
          "2021-05-27T00:00:00",
          "2021-05-28T00:00:00",
          "2021-05-29T00:00:00",
          "2021-05-30T00:00:00",
          "2021-05-31T00:00:00",
          "2021-06-01T00:00:00",
          "2021-06-02T00:00:00",
          "2021-06-03T00:00:00",
          "2021-06-04T00:00:00",
          "2021-06-05T00:00:00",
          "2021-06-06T00:00:00",
          "2021-06-07T00:00:00",
          "2021-06-08T00:00:00",
          "2021-06-09T00:00:00",
          "2021-06-10T00:00:00",
          "2021-06-11T00:00:00",
          "2021-06-12T00:00:00",
          "2021-06-13T00:00:00",
          "2021-06-14T00:00:00",
          "2021-06-15T00:00:00",
          "2021-06-16T00:00:00",
          "2021-06-17T00:00:00",
          "2021-06-18T00:00:00",
          "2021-06-19T00:00:00",
          "2021-06-20T00:00:00",
          "2021-06-21T00:00:00",
          "2021-06-22T00:00:00",
          "2021-06-23T00:00:00",
          "2021-06-24T00:00:00",
          "2021-06-25T00:00:00",
          "2021-06-26T00:00:00",
          "2021-06-27T00:00:00",
          "2021-06-28T00:00:00",
          "2021-06-29T00:00:00",
          "2021-06-30T00:00:00",
          "2021-07-01T00:00:00",
          "2021-07-02T00:00:00",
          "2021-07-03T00:00:00",
          "2021-07-04T00:00:00",
          "2021-07-05T00:00:00",
          "2021-07-06T00:00:00",
          "2021-07-07T00:00:00",
          "2021-07-08T00:00:00",
          "2021-07-09T00:00:00",
          "2021-07-10T00:00:00",
          "2021-07-11T00:00:00",
          "2021-07-12T00:00:00",
          "2021-07-13T00:00:00",
          "2021-07-14T00:00:00",
          "2021-07-15T00:00:00",
          "2021-07-16T00:00:00",
          "2021-07-17T00:00:00",
          "2021-07-18T00:00:00",
          "2021-07-19T00:00:00",
          "2021-07-20T00:00:00",
          "2021-07-21T00:00:00",
          "2021-07-22T00:00:00",
          "2021-07-23T00:00:00",
          "2021-07-24T00:00:00",
          "2021-07-25T00:00:00",
          "2021-07-26T00:00:00",
          "2021-07-27T00:00:00",
          "2021-07-28T00:00:00",
          "2021-07-29T00:00:00",
          "2021-07-30T00:00:00",
          "2021-07-31T00:00:00",
          "2021-08-01T00:00:00",
          "2021-08-02T00:00:00",
          "2021-08-03T00:00:00",
          "2021-08-04T00:00:00",
          "2021-08-05T00:00:00",
          "2021-08-06T00:00:00",
          "2021-08-07T00:00:00",
          "2021-08-08T00:00:00",
          "2021-08-09T00:00:00",
          "2021-08-10T00:00:00",
          "2021-08-11T00:00:00",
          "2021-08-12T00:00:00",
          "2021-08-13T00:00:00",
          "2021-08-14T00:00:00",
          "2021-08-15T00:00:00",
          "2021-08-16T00:00:00",
          "2021-08-17T00:00:00",
          "2021-08-18T00:00:00",
          "2021-08-19T00:00:00",
          "2021-08-20T00:00:00",
          "2021-08-21T00:00:00",
          "2021-08-22T00:00:00",
          "2021-08-23T00:00:00",
          "2021-08-24T00:00:00",
          "2021-08-25T00:00:00",
          "2021-08-26T00:00:00",
          "2021-08-27T00:00:00",
          "2021-08-28T00:00:00",
          "2021-08-29T00:00:00",
          "2021-08-30T00:00:00",
          "2021-08-31T00:00:00",
          "2021-09-01T00:00:00",
          "2021-09-02T00:00:00",
          "2021-09-03T00:00:00",
          "2021-09-04T00:00:00",
          "2021-09-05T00:00:00",
          "2021-09-06T00:00:00",
          "2021-09-07T00:00:00",
          "2021-09-08T00:00:00",
          "2021-09-09T00:00:00",
          "2021-09-10T00:00:00",
          "2021-09-11T00:00:00",
          "2021-09-12T00:00:00",
          "2021-09-13T00:00:00",
          "2021-09-14T00:00:00",
          "2021-09-15T00:00:00",
          "2021-09-16T00:00:00",
          "2021-09-17T00:00:00",
          "2021-09-18T00:00:00",
          "2021-09-19T00:00:00",
          "2021-09-20T00:00:00",
          "2021-09-21T00:00:00",
          "2021-09-22T00:00:00",
          "2021-09-23T00:00:00",
          "2021-09-24T00:00:00",
          "2021-09-25T00:00:00",
          "2021-09-26T00:00:00",
          "2021-09-27T00:00:00",
          "2021-09-28T00:00:00",
          "2021-09-29T00:00:00",
          "2021-09-30T00:00:00",
          "2021-10-01T00:00:00",
          "2021-10-02T00:00:00",
          "2021-10-03T00:00:00",
          "2021-10-04T00:00:00",
          "2021-10-05T00:00:00",
          "2021-10-06T00:00:00",
          "2021-10-07T00:00:00",
          "2021-10-08T00:00:00",
          "2021-10-09T00:00:00",
          "2021-10-10T00:00:00",
          "2021-10-11T00:00:00",
          "2021-10-12T00:00:00",
          "2021-10-13T00:00:00",
          "2021-10-14T00:00:00",
          "2021-10-15T00:00:00",
          "2021-10-16T00:00:00",
          "2021-10-17T00:00:00",
          "2021-10-18T00:00:00",
          "2021-10-19T00:00:00",
          "2021-10-20T00:00:00",
          "2021-10-21T00:00:00",
          "2021-10-22T00:00:00",
          "2021-10-23T00:00:00",
          "2021-10-24T00:00:00",
          "2021-10-25T00:00:00",
          "2021-10-26T00:00:00",
          "2021-10-27T00:00:00",
          "2021-10-28T00:00:00",
          "2021-10-29T00:00:00",
          "2021-10-30T00:00:00",
          "2021-10-31T00:00:00",
          "2021-11-01T00:00:00",
          "2021-11-02T00:00:00",
          "2021-11-03T00:00:00",
          "2021-11-04T00:00:00",
          "2021-11-05T00:00:00",
          "2021-11-06T00:00:00",
          "2021-11-07T00:00:00",
          "2021-11-08T00:00:00",
          "2021-11-09T00:00:00",
          "2021-11-10T00:00:00",
          "2021-11-11T00:00:00",
          "2021-11-12T00:00:00",
          "2021-11-13T00:00:00",
          "2021-11-14T00:00:00",
          "2021-11-15T00:00:00",
          "2021-11-16T00:00:00",
          "2021-11-17T00:00:00",
          "2021-11-18T00:00:00",
          "2021-11-19T00:00:00",
          "2021-11-20T00:00:00",
          "2021-11-21T00:00:00",
          "2021-11-22T00:00:00",
          "2021-11-23T00:00:00",
          "2021-11-24T00:00:00",
          "2021-11-25T00:00:00",
          "2021-11-26T00:00:00",
          "2021-11-27T00:00:00",
          "2021-11-28T00:00:00",
          "2021-11-29T00:00:00",
          "2021-11-30T00:00:00",
          "2021-12-01T00:00:00",
          "2021-12-02T00:00:00",
          "2021-12-03T00:00:00",
          "2021-12-04T00:00:00",
          "2021-12-05T00:00:00",
          "2021-12-06T00:00:00",
          "2021-12-07T00:00:00",
          "2021-12-08T00:00:00",
          "2021-12-09T00:00:00",
          "2021-12-10T00:00:00",
          "2021-12-11T00:00:00",
          "2021-12-12T00:00:00",
          "2021-12-13T00:00:00",
          "2021-12-14T00:00:00",
          "2021-12-15T00:00:00",
          "2021-12-16T00:00:00",
          "2021-12-17T00:00:00",
          "2021-12-18T00:00:00",
          "2021-12-19T00:00:00",
          "2021-12-20T00:00:00",
          "2021-12-21T00:00:00",
          "2021-12-22T00:00:00",
          "2021-12-23T00:00:00",
          "2021-12-24T00:00:00",
          "2021-12-25T00:00:00",
          "2021-12-26T00:00:00",
          "2021-12-27T00:00:00",
          "2021-12-28T00:00:00",
          "2021-12-29T00:00:00",
          "2021-12-30T00:00:00",
          "2021-12-31T00:00:00",
          "2022-01-01T00:00:00",
          "2022-01-02T00:00:00",
          "2022-01-03T00:00:00",
          "2022-01-04T00:00:00",
          "2022-01-05T00:00:00",
          "2022-01-06T00:00:00",
          "2022-01-07T00:00:00",
          "2022-01-08T00:00:00",
          "2022-01-09T00:00:00",
          "2022-01-10T00:00:00",
          "2022-01-11T00:00:00",
          "2022-01-12T00:00:00",
          "2022-01-13T00:00:00",
          "2022-01-14T00:00:00",
          "2022-01-15T00:00:00",
          "2022-01-16T00:00:00",
          "2022-01-17T00:00:00",
          "2022-01-18T00:00:00",
          "2022-01-19T00:00:00",
          "2022-01-20T00:00:00",
          "2022-01-21T00:00:00",
          "2022-01-22T00:00:00",
          "2022-01-23T00:00:00",
          "2022-01-24T00:00:00",
          "2022-01-25T00:00:00",
          "2022-01-26T00:00:00",
          "2022-01-27T00:00:00",
          "2022-01-28T00:00:00",
          "2022-01-29T00:00:00",
          "2022-01-30T00:00:00",
          "2022-01-31T00:00:00",
          "2022-02-01T00:00:00",
          "2022-02-02T00:00:00",
          "2022-02-03T00:00:00",
          "2022-02-04T00:00:00",
          "2022-02-05T00:00:00",
          "2022-02-06T00:00:00",
          "2022-02-07T00:00:00",
          "2022-02-08T00:00:00",
          "2022-02-09T00:00:00",
          "2022-02-10T00:00:00",
          "2022-02-11T00:00:00",
          "2022-02-12T00:00:00",
          "2022-02-13T00:00:00",
          "2022-02-14T00:00:00",
          "2022-02-15T00:00:00",
          "2022-02-16T00:00:00",
          "2022-02-17T00:00:00",
          "2022-02-18T00:00:00",
          "2022-02-19T00:00:00",
          "2022-02-20T00:00:00",
          "2022-02-21T00:00:00",
          "2022-02-22T00:00:00",
          "2022-02-23T00:00:00",
          "2022-02-24T00:00:00",
          "2022-02-25T00:00:00",
          "2022-02-26T00:00:00",
          "2022-02-27T00:00:00",
          "2022-02-28T00:00:00",
          "2022-03-01T00:00:00",
          "2022-03-02T00:00:00",
          "2022-03-03T00:00:00",
          "2022-03-04T00:00:00",
          "2022-03-05T00:00:00",
          "2022-03-06T00:00:00",
          "2022-03-07T00:00:00",
          "2022-03-08T00:00:00",
          "2022-03-09T00:00:00",
          "2022-03-10T00:00:00",
          "2022-03-11T00:00:00",
          "2022-03-12T00:00:00",
          "2022-03-13T00:00:00",
          "2022-03-14T00:00:00",
          "2022-03-15T00:00:00",
          "2022-03-16T00:00:00",
          "2022-03-17T00:00:00",
          "2022-03-18T00:00:00",
          "2022-03-19T00:00:00",
          "2022-03-20T00:00:00",
          "2022-03-21T00:00:00",
          "2022-03-22T00:00:00",
          "2022-03-23T00:00:00",
          "2022-03-24T00:00:00",
          "2022-03-25T00:00:00",
          "2022-03-26T00:00:00",
          "2022-03-27T00:00:00",
          "2022-03-28T00:00:00",
          "2022-03-29T00:00:00",
          "2022-03-30T00:00:00",
          "2022-03-31T00:00:00",
          "2022-04-01T00:00:00",
          "2022-04-02T00:00:00",
          "2022-04-03T00:00:00",
          "2022-04-04T00:00:00",
          "2022-04-05T00:00:00",
          "2022-04-06T00:00:00",
          "2022-04-07T00:00:00",
          "2022-04-08T00:00:00",
          "2022-04-09T00:00:00",
          "2022-04-10T00:00:00",
          "2022-04-11T00:00:00",
          "2022-04-12T00:00:00",
          "2022-04-13T00:00:00",
          "2022-04-14T00:00:00",
          "2022-04-15T00:00:00",
          "2022-04-16T00:00:00",
          "2022-04-17T00:00:00",
          "2022-04-18T00:00:00",
          "2022-04-19T00:00:00",
          "2022-04-20T00:00:00",
          "2022-04-21T00:00:00",
          "2022-04-22T00:00:00",
          "2022-04-23T00:00:00",
          "2022-04-24T00:00:00",
          "2022-04-25T00:00:00",
          "2022-04-26T00:00:00",
          "2022-04-27T00:00:00",
          "2022-04-28T00:00:00",
          "2022-04-29T00:00:00",
          "2022-04-30T00:00:00",
          "2022-05-01T00:00:00",
          "2022-05-02T00:00:00",
          "2022-05-03T00:00:00",
          "2022-05-04T00:00:00",
          "2022-05-05T00:00:00",
          "2022-05-06T00:00:00",
          "2022-05-07T00:00:00",
          "2022-05-08T00:00:00",
          "2022-05-09T00:00:00",
          "2022-05-10T00:00:00",
          "2022-05-11T00:00:00",
          "2022-05-12T00:00:00",
          "2022-05-13T00:00:00",
          "2022-05-14T00:00:00",
          "2022-05-15T00:00:00",
          "2022-05-16T00:00:00"
         ],
         "y": [
          1867.5,
          1867.800048828125,
          1881.300048828125,
          1881.800048828125,
          1876.699951171875,
          1876.699951171875,
          1876.699951171875,
          1884.5999755859375,
          1898.0999755859375,
          1901.300048828125,
          1895.699951171875,
          1902.5,
          1902.5,
          1902.5,
          1902.5,
          1902.9000244140625,
          1907.5,
          1871.199951171875,
          1889.800048828125,
          1889.800048828125,
          1889.800048828125,
          1896.800048828125,
          1892.199951171875,
          1893.199951171875,
          1894.199951171875,
          1877.4000244140625,
          1877.4000244140625,
          1877.4000244140625,
          1864,
          1854.5,
          1859.5,
          1773.800048828125,
          1767.9000244140625,
          1767.9000244140625,
          1767.9000244140625,
          1781.800048828125,
          1776.300048828125,
          1782.300048828125,
          1775.5999755859375,
          1776.5999755859375,
          1776.5999755859375,
          1776.5999755859375,
          1779.5999755859375,
          1762.800048828125,
          1770.800048828125,
          1775.9000244140625,
          1782.5999755859375,
          1782.5999755859375,
          1782.5999755859375,
          1782.5999755859375,
          1793.5,
          1801.5,
          1799.5999755859375,
          1810,
          1810,
          1810,
          1805.5,
          1809.4000244140625,
          1824.300048828125,
          1828.4000244140625,
          1814.5,
          1814.5,
          1814.5,
          1808.699951171875,
          1810.9000244140625,
          1802.9000244140625,
          1805,
          1801.4000244140625,
          1801.4000244140625,
          1801.4000244140625,
          1798.699951171875,
          1799.5,
          1799.5,
          1831.199951171875,
          1812.5999755859375,
          1812.5999755859375,
          1812.5999755859375,
          1818.0999755859375,
          1810.0999755859375,
          1810.5,
          1805.0999755859375,
          1760,
          1760,
          1760,
          1723.4000244140625,
          1728.800048828125,
          1750.4000244140625,
          1749,
          1775.199951171875,
          1775.199951171875,
          1775.199951171875,
          1786.9000244140625,
          1785,
          1781.5999755859375,
          1780.199951171875,
          1781,
          1781,
          1781,
          1803.199951171875,
          1805.5999755859375,
          1788.199951171875,
          1792.199951171875,
          1816.5999755859375,
          1816.5999755859375,
          1816.5999755859375,
          1809,
          1815,
          1813.0999755859375,
          1808.699951171875,
          1830.9000244140625,
          1830.9000244140625,
          1830.9000244140625,
          1830.9000244140625,
          1795.9000244140625,
          1790.699951171875,
          1797.4000244140625,
          1789.5999755859375,
          1789.5999755859375,
          1789.5999755859375,
          1792,
          1804.699951171875,
          1792.4000244140625,
          1754.5999755859375,
          1749.4000244140625,
          1749.4000244140625,
          1749.4000244140625,
          1761.800048828125,
          1776,
          1776.699951171875,
          1747.699951171875,
          1749.699951171875,
          1749.699951171875,
          1749.699951171875,
          1750,
          1735.800048828125,
          1721.5,
          1755.300048828125,
          1757,
          1757,
          1757,
          1766.199951171875,
          1759.5999755859375,
          1760.5,
          1757.9000244140625,
          1756.300048828125,
          1756.300048828125,
          1756.300048828125,
          1754.5999755859375,
          1758.300048828125,
          1793.699951171875,
          1796.699951171875,
          1767.199951171875,
          1767.199951171875,
          1767.199951171875,
          1764.800048828125,
          1769.699951171875,
          1784.0999755859375,
          1781.199951171875,
          1795.5,
          1795.5,
          1795.5,
          1806,
          1792.699951171875,
          1797.9000244140625,
          1801.5999755859375,
          1783,
          1783,
          1783,
          1795.0999755859375,
          1788.699951171875,
          1763.5999755859375,
          1793,
          1816.4000244140625,
          1816.4000244140625,
          1816.4000244140625,
          1827.4000244140625,
          1830.199951171875,
          1847.5999755859375,
          1863.199951171875,
          1867.9000244140625,
          1867.9000244140625,
          1867.9000244140625,
          1866.0999755859375,
          1853.5999755859375,
          1869.699951171875,
          1861,
          1851.199951171875,
          1851.199951171875,
          1851.199951171875,
          1806,
          1783.5,
          1784.0999755859375,
          1791.4000244140625,
          1785.300048828125,
          1785.300048828125,
          1785.300048828125,
          1782.300048828125,
          1773.5999755859375,
          1781.5999755859375,
          1760.699951171875,
          1782,
          1782,
          1782,
          1777.5,
          1782.5999755859375,
          1783.4000244140625,
          1774.5999755859375,
          1782.9000244140625,
          1782.9000244140625,
          1782.9000244140625,
          1786.300048828125,
          1770.4000244140625,
          1762.5999755859375,
          1796.5999755859375,
          1803.800048828125,
          1803.800048828125,
          1803.800048828125,
          1793.699951171875,
          1787.9000244140625,
          1801.5999755859375,
          1811.199951171875,
          1811.199951171875,
          1811.199951171875,
          1811.199951171875,
          1808.0999755859375,
          1810.199951171875,
          1805.0999755859375,
          1812.699951171875,
          1827.5,
          1827.5,
          1827.5,
          1799.4000244140625,
          1814,
          1824.5999755859375,
          1788.699951171875,
          1797,
          1797,
          1797,
          1798.4000244140625,
          1818.5999755859375,
          1827.199951171875,
          1821.199951171875,
          1816.5,
          1816.5,
          1816.5,
          1816.5,
          1812.300048828125,
          1843.0999755859375,
          1842.5,
          1831.800048828125,
          1831.800048828125,
          1831.800048828125,
          1841.699951171875,
          1852.699951171875,
          1829.9000244140625,
          1793.300048828125,
          1784.9000244140625,
          1784.9000244140625,
          1784.9000244140625,
          1795,
          1800.300048828125,
          1809.199951171875,
          1803,
          1806.5999755859375,
          1806.5999755859375,
          1806.5999755859375,
          1820.5999755859375,
          1826.5999755859375,
          1835.199951171875,
          1836.199951171875,
          1840.800048828125,
          1840.800048828125,
          1840.800048828125,
          1868,
          1854.800048828125,
          1870.199951171875,
          1900.699951171875,
          1898.5999755859375,
          1898.5999755859375,
          1898.5999755859375,
          1898.5999755859375,
          1906.0999755859375,
          1909.199951171875,
          1925.0999755859375,
          1886.5,
          1886.5,
          1886.5,
          1899.4000244140625,
          1942.4000244140625,
          1920.9000244140625,
          1934.4000244140625,
          1965.0999755859375,
          1965.0999755859375,
          1965.0999755859375,
          1993.9000244140625,
          2040.0999755859375,
          1985.9000244140625,
          1998.0999755859375,
          1982.699951171875,
          1982.699951171875,
          1982.699951171875,
          1959.5999755859375,
          1928.5,
          1908,
          1942.0999755859375,
          1928.199951171875,
          1928.199951171875,
          1928.199951171875,
          1928.5999755859375,
          1920.699951171875,
          1936.5999755859375,
          1961.5999755859375,
          1953.800048828125,
          1953.800048828125,
          1953.800048828125,
          1939.5999755859375,
          1912,
          1933.5,
          1949.199951171875,
          1919.0999755859375,
          1919.0999755859375,
          1919.0999755859375,
          1929.199951171875,
          1922.9000244140625,
          1918.4000244140625,
          1933.800048828125,
          1941.5999755859375,
          1941.5999755859375,
          1941.5999755859375,
          1944.300048828125,
          1972.0999755859375,
          1981,
          1970.9000244140625,
          1970.9000244140625,
          1970.9000244140625,
          1970.9000244140625,
          1982.9000244140625,
          1955.699951171875,
          1952.300048828125,
          1944.9000244140625,
          1931,
          1931,
          1931,
          1893.199951171875,
          1901.4000244140625,
          1885.9000244140625,
          1888.699951171875,
          1909.300048828125,
          1909.300048828125,
          1909.300048828125,
          1861.800048828125,
          1868.800048828125,
          1867,
          1874,
          1881.199951171875,
          1881.199951171875,
          1881.199951171875,
          1857.0999755859375,
          1839.9000244140625,
          1852.5999755859375,
          1823.800048828125,
          1807.4000244140625,
          1807.4000244140625,
          1807.4000244140625,
          1802
         ]
        }
       ],
       "layout": {
        "autosize": true,
        "dragmode": "zoom",
        "plot_bgcolor": "#eef6f6",
        "template": {
         "data": {
          "bar": [
           {
            "error_x": {
             "color": "#2a3f5f"
            },
            "error_y": {
             "color": "#2a3f5f"
            },
            "marker": {
             "line": {
              "color": "#E5ECF6",
              "width": 0.5
             },
             "pattern": {
              "fillmode": "overlay",
              "size": 10,
              "solidity": 0.2
             }
            },
            "type": "bar"
           }
          ],
          "barpolar": [
           {
            "marker": {
             "line": {
              "color": "#E5ECF6",
              "width": 0.5
             },
             "pattern": {
              "fillmode": "overlay",
              "size": 10,
              "solidity": 0.2
             }
            },
            "type": "barpolar"
           }
          ],
          "carpet": [
           {
            "aaxis": {
             "endlinecolor": "#2a3f5f",
             "gridcolor": "white",
             "linecolor": "white",
             "minorgridcolor": "white",
             "startlinecolor": "#2a3f5f"
            },
            "baxis": {
             "endlinecolor": "#2a3f5f",
             "gridcolor": "white",
             "linecolor": "white",
             "minorgridcolor": "white",
             "startlinecolor": "#2a3f5f"
            },
            "type": "carpet"
           }
          ],
          "choropleth": [
           {
            "colorbar": {
             "outlinewidth": 0,
             "ticks": ""
            },
            "type": "choropleth"
           }
          ],
          "contour": [
           {
            "colorbar": {
             "outlinewidth": 0,
             "ticks": ""
            },
            "colorscale": [
             [
              0,
              "#0d0887"
             ],
             [
              0.1111111111111111,
              "#46039f"
             ],
             [
              0.2222222222222222,
              "#7201a8"
             ],
             [
              0.3333333333333333,
              "#9c179e"
             ],
             [
              0.4444444444444444,
              "#bd3786"
             ],
             [
              0.5555555555555556,
              "#d8576b"
             ],
             [
              0.6666666666666666,
              "#ed7953"
             ],
             [
              0.7777777777777778,
              "#fb9f3a"
             ],
             [
              0.8888888888888888,
              "#fdca26"
             ],
             [
              1,
              "#f0f921"
             ]
            ],
            "type": "contour"
           }
          ],
          "contourcarpet": [
           {
            "colorbar": {
             "outlinewidth": 0,
             "ticks": ""
            },
            "type": "contourcarpet"
           }
          ],
          "heatmap": [
           {
            "colorbar": {
             "outlinewidth": 0,
             "ticks": ""
            },
            "colorscale": [
             [
              0,
              "#0d0887"
             ],
             [
              0.1111111111111111,
              "#46039f"
             ],
             [
              0.2222222222222222,
              "#7201a8"
             ],
             [
              0.3333333333333333,
              "#9c179e"
             ],
             [
              0.4444444444444444,
              "#bd3786"
             ],
             [
              0.5555555555555556,
              "#d8576b"
             ],
             [
              0.6666666666666666,
              "#ed7953"
             ],
             [
              0.7777777777777778,
              "#fb9f3a"
             ],
             [
              0.8888888888888888,
              "#fdca26"
             ],
             [
              1,
              "#f0f921"
             ]
            ],
            "type": "heatmap"
           }
          ],
          "heatmapgl": [
           {
            "colorbar": {
             "outlinewidth": 0,
             "ticks": ""
            },
            "colorscale": [
             [
              0,
              "#0d0887"
             ],
             [
              0.1111111111111111,
              "#46039f"
             ],
             [
              0.2222222222222222,
              "#7201a8"
             ],
             [
              0.3333333333333333,
              "#9c179e"
             ],
             [
              0.4444444444444444,
              "#bd3786"
             ],
             [
              0.5555555555555556,
              "#d8576b"
             ],
             [
              0.6666666666666666,
              "#ed7953"
             ],
             [
              0.7777777777777778,
              "#fb9f3a"
             ],
             [
              0.8888888888888888,
              "#fdca26"
             ],
             [
              1,
              "#f0f921"
             ]
            ],
            "type": "heatmapgl"
           }
          ],
          "histogram": [
           {
            "marker": {
             "pattern": {
              "fillmode": "overlay",
              "size": 10,
              "solidity": 0.2
             }
            },
            "type": "histogram"
           }
          ],
          "histogram2d": [
           {
            "colorbar": {
             "outlinewidth": 0,
             "ticks": ""
            },
            "colorscale": [
             [
              0,
              "#0d0887"
             ],
             [
              0.1111111111111111,
              "#46039f"
             ],
             [
              0.2222222222222222,
              "#7201a8"
             ],
             [
              0.3333333333333333,
              "#9c179e"
             ],
             [
              0.4444444444444444,
              "#bd3786"
             ],
             [
              0.5555555555555556,
              "#d8576b"
             ],
             [
              0.6666666666666666,
              "#ed7953"
             ],
             [
              0.7777777777777778,
              "#fb9f3a"
             ],
             [
              0.8888888888888888,
              "#fdca26"
             ],
             [
              1,
              "#f0f921"
             ]
            ],
            "type": "histogram2d"
           }
          ],
          "histogram2dcontour": [
           {
            "colorbar": {
             "outlinewidth": 0,
             "ticks": ""
            },
            "colorscale": [
             [
              0,
              "#0d0887"
             ],
             [
              0.1111111111111111,
              "#46039f"
             ],
             [
              0.2222222222222222,
              "#7201a8"
             ],
             [
              0.3333333333333333,
              "#9c179e"
             ],
             [
              0.4444444444444444,
              "#bd3786"
             ],
             [
              0.5555555555555556,
              "#d8576b"
             ],
             [
              0.6666666666666666,
              "#ed7953"
             ],
             [
              0.7777777777777778,
              "#fb9f3a"
             ],
             [
              0.8888888888888888,
              "#fdca26"
             ],
             [
              1,
              "#f0f921"
             ]
            ],
            "type": "histogram2dcontour"
           }
          ],
          "mesh3d": [
           {
            "colorbar": {
             "outlinewidth": 0,
             "ticks": ""
            },
            "type": "mesh3d"
           }
          ],
          "parcoords": [
           {
            "line": {
             "colorbar": {
              "outlinewidth": 0,
              "ticks": ""
             }
            },
            "type": "parcoords"
           }
          ],
          "pie": [
           {
            "automargin": true,
            "type": "pie"
           }
          ],
          "scatter": [
           {
            "marker": {
             "colorbar": {
              "outlinewidth": 0,
              "ticks": ""
             }
            },
            "type": "scatter"
           }
          ],
          "scatter3d": [
           {
            "line": {
             "colorbar": {
              "outlinewidth": 0,
              "ticks": ""
             }
            },
            "marker": {
             "colorbar": {
              "outlinewidth": 0,
              "ticks": ""
             }
            },
            "type": "scatter3d"
           }
          ],
          "scattercarpet": [
           {
            "marker": {
             "colorbar": {
              "outlinewidth": 0,
              "ticks": ""
             }
            },
            "type": "scattercarpet"
           }
          ],
          "scattergeo": [
           {
            "marker": {
             "colorbar": {
              "outlinewidth": 0,
              "ticks": ""
             }
            },
            "type": "scattergeo"
           }
          ],
          "scattergl": [
           {
            "marker": {
             "colorbar": {
              "outlinewidth": 0,
              "ticks": ""
             }
            },
            "type": "scattergl"
           }
          ],
          "scattermapbox": [
           {
            "marker": {
             "colorbar": {
              "outlinewidth": 0,
              "ticks": ""
             }
            },
            "type": "scattermapbox"
           }
          ],
          "scatterpolar": [
           {
            "marker": {
             "colorbar": {
              "outlinewidth": 0,
              "ticks": ""
             }
            },
            "type": "scatterpolar"
           }
          ],
          "scatterpolargl": [
           {
            "marker": {
             "colorbar": {
              "outlinewidth": 0,
              "ticks": ""
             }
            },
            "type": "scatterpolargl"
           }
          ],
          "scatterternary": [
           {
            "marker": {
             "colorbar": {
              "outlinewidth": 0,
              "ticks": ""
             }
            },
            "type": "scatterternary"
           }
          ],
          "surface": [
           {
            "colorbar": {
             "outlinewidth": 0,
             "ticks": ""
            },
            "colorscale": [
             [
              0,
              "#0d0887"
             ],
             [
              0.1111111111111111,
              "#46039f"
             ],
             [
              0.2222222222222222,
              "#7201a8"
             ],
             [
              0.3333333333333333,
              "#9c179e"
             ],
             [
              0.4444444444444444,
              "#bd3786"
             ],
             [
              0.5555555555555556,
              "#d8576b"
             ],
             [
              0.6666666666666666,
              "#ed7953"
             ],
             [
              0.7777777777777778,
              "#fb9f3a"
             ],
             [
              0.8888888888888888,
              "#fdca26"
             ],
             [
              1,
              "#f0f921"
             ]
            ],
            "type": "surface"
           }
          ],
          "table": [
           {
            "cells": {
             "fill": {
              "color": "#EBF0F8"
             },
             "line": {
              "color": "white"
             }
            },
            "header": {
             "fill": {
              "color": "#C8D4E3"
             },
             "line": {
              "color": "white"
             }
            },
            "type": "table"
           }
          ]
         },
         "layout": {
          "annotationdefaults": {
           "arrowcolor": "#2a3f5f",
           "arrowhead": 0,
           "arrowwidth": 1
          },
          "autotypenumbers": "strict",
          "coloraxis": {
           "colorbar": {
            "outlinewidth": 0,
            "ticks": ""
           }
          },
          "colorscale": {
           "diverging": [
            [
             0,
             "#8e0152"
            ],
            [
             0.1,
             "#c51b7d"
            ],
            [
             0.2,
             "#de77ae"
            ],
            [
             0.3,
             "#f1b6da"
            ],
            [
             0.4,
             "#fde0ef"
            ],
            [
             0.5,
             "#f7f7f7"
            ],
            [
             0.6,
             "#e6f5d0"
            ],
            [
             0.7,
             "#b8e186"
            ],
            [
             0.8,
             "#7fbc41"
            ],
            [
             0.9,
             "#4d9221"
            ],
            [
             1,
             "#276419"
            ]
           ],
           "sequential": [
            [
             0,
             "#0d0887"
            ],
            [
             0.1111111111111111,
             "#46039f"
            ],
            [
             0.2222222222222222,
             "#7201a8"
            ],
            [
             0.3333333333333333,
             "#9c179e"
            ],
            [
             0.4444444444444444,
             "#bd3786"
            ],
            [
             0.5555555555555556,
             "#d8576b"
            ],
            [
             0.6666666666666666,
             "#ed7953"
            ],
            [
             0.7777777777777778,
             "#fb9f3a"
            ],
            [
             0.8888888888888888,
             "#fdca26"
            ],
            [
             1,
             "#f0f921"
            ]
           ],
           "sequentialminus": [
            [
             0,
             "#0d0887"
            ],
            [
             0.1111111111111111,
             "#46039f"
            ],
            [
             0.2222222222222222,
             "#7201a8"
            ],
            [
             0.3333333333333333,
             "#9c179e"
            ],
            [
             0.4444444444444444,
             "#bd3786"
            ],
            [
             0.5555555555555556,
             "#d8576b"
            ],
            [
             0.6666666666666666,
             "#ed7953"
            ],
            [
             0.7777777777777778,
             "#fb9f3a"
            ],
            [
             0.8888888888888888,
             "#fdca26"
            ],
            [
             1,
             "#f0f921"
            ]
           ]
          },
          "colorway": [
           "#636efa",
           "#EF553B",
           "#00cc96",
           "#ab63fa",
           "#FFA15A",
           "#19d3f3",
           "#FF6692",
           "#B6E880",
           "#FF97FF",
           "#FECB52"
          ],
          "font": {
           "color": "#2a3f5f"
          },
          "geo": {
           "bgcolor": "white",
           "lakecolor": "white",
           "landcolor": "#E5ECF6",
           "showlakes": true,
           "showland": true,
           "subunitcolor": "white"
          },
          "hoverlabel": {
           "align": "left"
          },
          "hovermode": "closest",
          "mapbox": {
           "style": "light"
          },
          "paper_bgcolor": "white",
          "plot_bgcolor": "#E5ECF6",
          "polar": {
           "angularaxis": {
            "gridcolor": "white",
            "linecolor": "white",
            "ticks": ""
           },
           "bgcolor": "#E5ECF6",
           "radialaxis": {
            "gridcolor": "white",
            "linecolor": "white",
            "ticks": ""
           }
          },
          "scene": {
           "xaxis": {
            "backgroundcolor": "#E5ECF6",
            "gridcolor": "white",
            "gridwidth": 2,
            "linecolor": "white",
            "showbackground": true,
            "ticks": "",
            "zerolinecolor": "white"
           },
           "yaxis": {
            "backgroundcolor": "#E5ECF6",
            "gridcolor": "white",
            "gridwidth": 2,
            "linecolor": "white",
            "showbackground": true,
            "ticks": "",
            "zerolinecolor": "white"
           },
           "zaxis": {
            "backgroundcolor": "#E5ECF6",
            "gridcolor": "white",
            "gridwidth": 2,
            "linecolor": "white",
            "showbackground": true,
            "ticks": "",
            "zerolinecolor": "white"
           }
          },
          "shapedefaults": {
           "line": {
            "color": "#2a3f5f"
           }
          },
          "ternary": {
           "aaxis": {
            "gridcolor": "white",
            "linecolor": "white",
            "ticks": ""
           },
           "baxis": {
            "gridcolor": "white",
            "linecolor": "white",
            "ticks": ""
           },
           "bgcolor": "#E5ECF6",
           "caxis": {
            "gridcolor": "white",
            "linecolor": "white",
            "ticks": ""
           }
          },
          "title": {
           "x": 0.05
          },
          "xaxis": {
           "automargin": true,
           "gridcolor": "white",
           "linecolor": "white",
           "ticks": "",
           "title": {
            "standoff": 15
           },
           "zerolinecolor": "white",
           "zerolinewidth": 2
          },
          "yaxis": {
           "automargin": true,
           "gridcolor": "white",
           "linecolor": "white",
           "ticks": "",
           "title": {
            "standoff": 15
           },
           "zerolinecolor": "white",
           "zerolinewidth": 2
          }
         }
        },
        "xaxis": {
         "autorange": false,
         "range": [
          "2022-04-11 15:09:21.7062",
          "2022-05-19 04:53:01.1772"
         ],
         "type": "date"
        },
        "yaxis": {
         "autorange": false,
         "range": [
          1776.746539498819,
          2013.5177855013173
         ],
         "type": "linear"
        }
       }
      },
      "image/png": "[encoded data removed]",
      "text/html": [
       "<div>                            <div id=\"df93fc3e-254a-436d-a60d-3f0697142ed9\" class=\"plotly-graph-div\" style=\"height:300px; width:100%;\"></div>            <script type=\"text/javascript\">                require([\"plotly\"], function(Plotly) {                    window.PLOTLYENV=window.PLOTLYENV || {};                                    if (document.getElementById(\"df93fc3e-254a-436d-a60d-3f0697142ed9\")) {                    Plotly.newPlot(                        \"df93fc3e-254a-436d-a60d-3f0697142ed9\",                        [{\"marker\":{\"color\":\"#333333\"},\"mode\":\"lines\",\"opacity\":0.25,\"x\":[\"2021-05-17T00:00:00\",\"2021-05-18T00:00:00\",\"2021-05-19T00:00:00\",\"2021-05-20T00:00:00\",\"2021-05-21T00:00:00\",\"2021-05-22T00:00:00\",\"2021-05-23T00:00:00\",\"2021-05-24T00:00:00\",\"2021-05-25T00:00:00\",\"2021-05-26T00:00:00\",\"2021-05-27T00:00:00\",\"2021-05-28T00:00:00\",\"2021-05-29T00:00:00\",\"2021-05-30T00:00:00\",\"2021-05-31T00:00:00\",\"2021-06-01T00:00:00\",\"2021-06-02T00:00:00\",\"2021-06-03T00:00:00\",\"2021-06-04T00:00:00\",\"2021-06-05T00:00:00\",\"2021-06-06T00:00:00\",\"2021-06-07T00:00:00\",\"2021-06-08T00:00:00\",\"2021-06-09T00:00:00\",\"2021-06-10T00:00:00\",\"2021-06-11T00:00:00\",\"2021-06-12T00:00:00\",\"2021-06-13T00:00:00\",\"2021-06-14T00:00:00\",\"2021-06-15T00:00:00\",\"2021-06-16T00:00:00\",\"2021-06-17T00:00:00\",\"2021-06-18T00:00:00\",\"2021-06-19T00:00:00\",\"2021-06-20T00:00:00\",\"2021-06-21T00:00:00\",\"2021-06-22T00:00:00\",\"2021-06-23T00:00:00\",\"2021-06-24T00:00:00\",\"2021-06-25T00:00:00\",\"2021-06-26T00:00:00\",\"2021-06-27T00:00:00\",\"2021-06-28T00:00:00\",\"2021-06-29T00:00:00\",\"2021-06-30T00:00:00\",\"2021-07-01T00:00:00\",\"2021-07-02T00:00:00\",\"2021-07-03T00:00:00\",\"2021-07-04T00:00:00\",\"2021-07-05T00:00:00\",\"2021-07-06T00:00:00\",\"2021-07-07T00:00:00\",\"2021-07-08T00:00:00\",\"2021-07-09T00:00:00\",\"2021-07-10T00:00:00\",\"2021-07-11T00:00:00\",\"2021-07-12T00:00:00\",\"2021-07-13T00:00:00\",\"2021-07-14T00:00:00\",\"2021-07-15T00:00:00\",\"2021-07-16T00:00:00\",\"2021-07-17T00:00:00\",\"2021-07-18T00:00:00\",\"2021-07-19T00:00:00\",\"2021-07-20T00:00:00\",\"2021-07-21T00:00:00\",\"2021-07-22T00:00:00\",\"2021-07-23T00:00:00\",\"2021-07-24T00:00:00\",\"2021-07-25T00:00:00\",\"2021-07-26T00:00:00\",\"2021-07-27T00:00:00\",\"2021-07-28T00:00:00\",\"2021-07-29T00:00:00\",\"2021-07-30T00:00:00\",\"2021-07-31T00:00:00\",\"2021-08-01T00:00:00\",\"2021-08-02T00:00:00\",\"2021-08-03T00:00:00\",\"2021-08-04T00:00:00\",\"2021-08-05T00:00:00\",\"2021-08-06T00:00:00\",\"2021-08-07T00:00:00\",\"2021-08-08T00:00:00\",\"2021-08-09T00:00:00\",\"2021-08-10T00:00:00\",\"2021-08-11T00:00:00\",\"2021-08-12T00:00:00\",\"2021-08-13T00:00:00\",\"2021-08-14T00:00:00\",\"2021-08-15T00:00:00\",\"2021-08-16T00:00:00\",\"2021-08-17T00:00:00\",\"2021-08-18T00:00:00\",\"2021-08-19T00:00:00\",\"2021-08-20T00:00:00\",\"2021-08-21T00:00:00\",\"2021-08-22T00:00:00\",\"2021-08-23T00:00:00\",\"2021-08-24T00:00:00\",\"2021-08-25T00:00:00\",\"2021-08-26T00:00:00\",\"2021-08-27T00:00:00\",\"2021-08-28T00:00:00\",\"2021-08-29T00:00:00\",\"2021-08-30T00:00:00\",\"2021-08-31T00:00:00\",\"2021-09-01T00:00:00\",\"2021-09-02T00:00:00\",\"2021-09-03T00:00:00\",\"2021-09-04T00:00:00\",\"2021-09-05T00:00:00\",\"2021-09-06T00:00:00\",\"2021-09-07T00:00:00\",\"2021-09-08T00:00:00\",\"2021-09-09T00:00:00\",\"2021-09-10T00:00:00\",\"2021-09-11T00:00:00\",\"2021-09-12T00:00:00\",\"2021-09-13T00:00:00\",\"2021-09-14T00:00:00\",\"2021-09-15T00:00:00\",\"2021-09-16T00:00:00\",\"2021-09-17T00:00:00\",\"2021-09-18T00:00:00\",\"2021-09-19T00:00:00\",\"2021-09-20T00:00:00\",\"2021-09-21T00:00:00\",\"2021-09-22T00:00:00\",\"2021-09-23T00:00:00\",\"2021-09-24T00:00:00\",\"2021-09-25T00:00:00\",\"2021-09-26T00:00:00\",\"2021-09-27T00:00:00\",\"2021-09-28T00:00:00\",\"2021-09-29T00:00:00\",\"2021-09-30T00:00:00\",\"2021-10-01T00:00:00\",\"2021-10-02T00:00:00\",\"2021-10-03T00:00:00\",\"2021-10-04T00:00:00\",\"2021-10-05T00:00:00\",\"2021-10-06T00:00:00\",\"2021-10-07T00:00:00\",\"2021-10-08T00:00:00\",\"2021-10-09T00:00:00\",\"2021-10-10T00:00:00\",\"2021-10-11T00:00:00\",\"2021-10-12T00:00:00\",\"2021-10-13T00:00:00\",\"2021-10-14T00:00:00\",\"2021-10-15T00:00:00\",\"2021-10-16T00:00:00\",\"2021-10-17T00:00:00\",\"2021-10-18T00:00:00\",\"2021-10-19T00:00:00\",\"2021-10-20T00:00:00\",\"2021-10-21T00:00:00\",\"2021-10-22T00:00:00\",\"2021-10-23T00:00:00\",\"2021-10-24T00:00:00\",\"2021-10-25T00:00:00\",\"2021-10-26T00:00:00\",\"2021-10-27T00:00:00\",\"2021-10-28T00:00:00\",\"2021-10-29T00:00:00\",\"2021-10-30T00:00:00\",\"2021-10-31T00:00:00\",\"2021-11-01T00:00:00\",\"2021-11-02T00:00:00\",\"2021-11-03T00:00:00\",\"2021-11-04T00:00:00\",\"2021-11-05T00:00:00\",\"2021-11-06T00:00:00\",\"2021-11-07T00:00:00\",\"2021-11-08T00:00:00\",\"2021-11-09T00:00:00\",\"2021-11-10T00:00:00\",\"2021-11-11T00:00:00\",\"2021-11-12T00:00:00\",\"2021-11-13T00:00:00\",\"2021-11-14T00:00:00\",\"2021-11-15T00:00:00\",\"2021-11-16T00:00:00\",\"2021-11-17T00:00:00\",\"2021-11-18T00:00:00\",\"2021-11-19T00:00:00\",\"2021-11-20T00:00:00\",\"2021-11-21T00:00:00\",\"2021-11-22T00:00:00\",\"2021-11-23T00:00:00\",\"2021-11-24T00:00:00\",\"2021-11-25T00:00:00\",\"2021-11-26T00:00:00\",\"2021-11-27T00:00:00\",\"2021-11-28T00:00:00\",\"2021-11-29T00:00:00\",\"2021-11-30T00:00:00\",\"2021-12-01T00:00:00\",\"2021-12-02T00:00:00\",\"2021-12-03T00:00:00\",\"2021-12-04T00:00:00\",\"2021-12-05T00:00:00\",\"2021-12-06T00:00:00\",\"2021-12-07T00:00:00\",\"2021-12-08T00:00:00\",\"2021-12-09T00:00:00\",\"2021-12-10T00:00:00\",\"2021-12-11T00:00:00\",\"2021-12-12T00:00:00\",\"2021-12-13T00:00:00\",\"2021-12-14T00:00:00\",\"2021-12-15T00:00:00\",\"2021-12-16T00:00:00\",\"2021-12-17T00:00:00\",\"2021-12-18T00:00:00\",\"2021-12-19T00:00:00\",\"2021-12-20T00:00:00\",\"2021-12-21T00:00:00\",\"2021-12-22T00:00:00\",\"2021-12-23T00:00:00\",\"2021-12-24T00:00:00\",\"2021-12-25T00:00:00\",\"2021-12-26T00:00:00\",\"2021-12-27T00:00:00\",\"2021-12-28T00:00:00\",\"2021-12-29T00:00:00\",\"2021-12-30T00:00:00\",\"2021-12-31T00:00:00\",\"2022-01-01T00:00:00\",\"2022-01-02T00:00:00\",\"2022-01-03T00:00:00\",\"2022-01-04T00:00:00\",\"2022-01-05T00:00:00\",\"2022-01-06T00:00:00\",\"2022-01-07T00:00:00\",\"2022-01-08T00:00:00\",\"2022-01-09T00:00:00\",\"2022-01-10T00:00:00\",\"2022-01-11T00:00:00\",\"2022-01-12T00:00:00\",\"2022-01-13T00:00:00\",\"2022-01-14T00:00:00\",\"2022-01-15T00:00:00\",\"2022-01-16T00:00:00\",\"2022-01-17T00:00:00\",\"2022-01-18T00:00:00\",\"2022-01-19T00:00:00\",\"2022-01-20T00:00:00\",\"2022-01-21T00:00:00\",\"2022-01-22T00:00:00\",\"2022-01-23T00:00:00\",\"2022-01-24T00:00:00\",\"2022-01-25T00:00:00\",\"2022-01-26T00:00:00\",\"2022-01-27T00:00:00\",\"2022-01-28T00:00:00\",\"2022-01-29T00:00:00\",\"2022-01-30T00:00:00\",\"2022-01-31T00:00:00\",\"2022-02-01T00:00:00\",\"2022-02-02T00:00:00\",\"2022-02-03T00:00:00\",\"2022-02-04T00:00:00\",\"2022-02-05T00:00:00\",\"2022-02-06T00:00:00\",\"2022-02-07T00:00:00\",\"2022-02-08T00:00:00\",\"2022-02-09T00:00:00\",\"2022-02-10T00:00:00\",\"2022-02-11T00:00:00\",\"2022-02-12T00:00:00\",\"2022-02-13T00:00:00\",\"2022-02-14T00:00:00\",\"2022-02-15T00:00:00\",\"2022-02-16T00:00:00\",\"2022-02-17T00:00:00\",\"2022-02-18T00:00:00\",\"2022-02-19T00:00:00\",\"2022-02-20T00:00:00\",\"2022-02-21T00:00:00\",\"2022-02-22T00:00:00\",\"2022-02-23T00:00:00\",\"2022-02-24T00:00:00\",\"2022-02-25T00:00:00\",\"2022-02-26T00:00:00\",\"2022-02-27T00:00:00\",\"2022-02-28T00:00:00\",\"2022-03-01T00:00:00\",\"2022-03-02T00:00:00\",\"2022-03-03T00:00:00\",\"2022-03-04T00:00:00\",\"2022-03-05T00:00:00\",\"2022-03-06T00:00:00\",\"2022-03-07T00:00:00\",\"2022-03-08T00:00:00\",\"2022-03-09T00:00:00\",\"2022-03-10T00:00:00\",\"2022-03-11T00:00:00\",\"2022-03-12T00:00:00\",\"2022-03-13T00:00:00\",\"2022-03-14T00:00:00\",\"2022-03-15T00:00:00\",\"2022-03-16T00:00:00\",\"2022-03-17T00:00:00\",\"2022-03-18T00:00:00\",\"2022-03-19T00:00:00\",\"2022-03-20T00:00:00\",\"2022-03-21T00:00:00\",\"2022-03-22T00:00:00\",\"2022-03-23T00:00:00\",\"2022-03-24T00:00:00\",\"2022-03-25T00:00:00\",\"2022-03-26T00:00:00\",\"2022-03-27T00:00:00\",\"2022-03-28T00:00:00\",\"2022-03-29T00:00:00\",\"2022-03-30T00:00:00\",\"2022-03-31T00:00:00\",\"2022-04-01T00:00:00\",\"2022-04-02T00:00:00\",\"2022-04-03T00:00:00\",\"2022-04-04T00:00:00\",\"2022-04-05T00:00:00\",\"2022-04-06T00:00:00\",\"2022-04-07T00:00:00\",\"2022-04-08T00:00:00\",\"2022-04-09T00:00:00\",\"2022-04-10T00:00:00\",\"2022-04-11T00:00:00\",\"2022-04-12T00:00:00\",\"2022-04-13T00:00:00\",\"2022-04-14T00:00:00\",\"2022-04-15T00:00:00\",\"2022-04-16T00:00:00\",\"2022-04-17T00:00:00\",\"2022-04-18T00:00:00\",\"2022-04-19T00:00:00\",\"2022-04-20T00:00:00\",\"2022-04-21T00:00:00\",\"2022-04-22T00:00:00\",\"2022-04-23T00:00:00\",\"2022-04-24T00:00:00\",\"2022-04-25T00:00:00\",\"2022-04-26T00:00:00\",\"2022-04-27T00:00:00\",\"2022-04-28T00:00:00\",\"2022-04-29T00:00:00\",\"2022-04-30T00:00:00\",\"2022-05-01T00:00:00\",\"2022-05-02T00:00:00\",\"2022-05-03T00:00:00\",\"2022-05-04T00:00:00\",\"2022-05-05T00:00:00\",\"2022-05-06T00:00:00\",\"2022-05-07T00:00:00\",\"2022-05-08T00:00:00\",\"2022-05-09T00:00:00\",\"2022-05-10T00:00:00\",\"2022-05-11T00:00:00\",\"2022-05-12T00:00:00\",\"2022-05-13T00:00:00\",\"2022-05-14T00:00:00\",\"2022-05-15T00:00:00\",\"2022-05-16T00:00:00\"],\"y\":[1867.5,1867.800048828125,1881.300048828125,1881.800048828125,1876.699951171875,1876.699951171875,1876.699951171875,1884.5999755859375,1898.0999755859375,1901.300048828125,1895.699951171875,1902.5,1902.5,1902.5,1902.5,1902.9000244140625,1907.5,1871.199951171875,1889.800048828125,1889.800048828125,1889.800048828125,1896.800048828125,1892.199951171875,1893.199951171875,1894.199951171875,1877.4000244140625,1877.4000244140625,1877.4000244140625,1864.0,1854.5,1859.5,1773.800048828125,1767.9000244140625,1767.9000244140625,1767.9000244140625,1781.800048828125,1776.300048828125,1782.300048828125,1775.5999755859375,1776.5999755859375,1776.5999755859375,1776.5999755859375,1779.5999755859375,1762.800048828125,1770.800048828125,1775.9000244140625,1782.5999755859375,1782.5999755859375,1782.5999755859375,1782.5999755859375,1793.5,1801.5,1799.5999755859375,1810.0,1810.0,1810.0,1805.5,1809.4000244140625,1824.300048828125,1828.4000244140625,1814.5,1814.5,1814.5,1808.699951171875,1810.9000244140625,1802.9000244140625,1805.0,1801.4000244140625,1801.4000244140625,1801.4000244140625,1798.699951171875,1799.5,1799.5,1831.199951171875,1812.5999755859375,1812.5999755859375,1812.5999755859375,1818.0999755859375,1810.0999755859375,1810.5,1805.0999755859375,1760.0,1760.0,1760.0,1723.4000244140625,1728.800048828125,1750.4000244140625,1749.0,1775.199951171875,1775.199951171875,1775.199951171875,1786.9000244140625,1785.0,1781.5999755859375,1780.199951171875,1781.0,1781.0,1781.0,1803.199951171875,1805.5999755859375,1788.199951171875,1792.199951171875,1816.5999755859375,1816.5999755859375,1816.5999755859375,1809.0,1815.0,1813.0999755859375,1808.699951171875,1830.9000244140625,1830.9000244140625,1830.9000244140625,1830.9000244140625,1795.9000244140625,1790.699951171875,1797.4000244140625,1789.5999755859375,1789.5999755859375,1789.5999755859375,1792.0,1804.699951171875,1792.4000244140625,1754.5999755859375,1749.4000244140625,1749.4000244140625,1749.4000244140625,1761.800048828125,1776.0,1776.699951171875,1747.699951171875,1749.699951171875,1749.699951171875,1749.699951171875,1750.0,1735.800048828125,1721.5,1755.300048828125,1757.0,1757.0,1757.0,1766.199951171875,1759.5999755859375,1760.5,1757.9000244140625,1756.300048828125,1756.300048828125,1756.300048828125,1754.5999755859375,1758.300048828125,1793.699951171875,1796.699951171875,1767.199951171875,1767.199951171875,1767.199951171875,1764.800048828125,1769.699951171875,1784.0999755859375,1781.199951171875,1795.5,1795.5,1795.5,1806.0,1792.699951171875,1797.9000244140625,1801.5999755859375,1783.0,1783.0,1783.0,1795.0999755859375,1788.699951171875,1763.5999755859375,1793.0,1816.4000244140625,1816.4000244140625,1816.4000244140625,1827.4000244140625,1830.199951171875,1847.5999755859375,1863.199951171875,1867.9000244140625,1867.9000244140625,1867.9000244140625,1866.0999755859375,1853.5999755859375,1869.699951171875,1861.0,1851.199951171875,1851.199951171875,1851.199951171875,1806.0,1783.5,1784.0999755859375,1791.4000244140625,1785.300048828125,1785.300048828125,1785.300048828125,1782.300048828125,1773.5999755859375,1781.5999755859375,1760.699951171875,1782.0,1782.0,1782.0,1777.5,1782.5999755859375,1783.4000244140625,1774.5999755859375,1782.9000244140625,1782.9000244140625,1782.9000244140625,1786.300048828125,1770.4000244140625,1762.5999755859375,1796.5999755859375,1803.800048828125,1803.800048828125,1803.800048828125,1793.699951171875,1787.9000244140625,1801.5999755859375,1811.199951171875,1811.199951171875,1811.199951171875,1811.199951171875,1808.0999755859375,1810.199951171875,1805.0999755859375,1812.699951171875,1827.5,1827.5,1827.5,1799.4000244140625,1814.0,1824.5999755859375,1788.699951171875,1797.0,1797.0,1797.0,1798.4000244140625,1818.5999755859375,1827.199951171875,1821.199951171875,1816.5,1816.5,1816.5,1816.5,1812.300048828125,1843.0999755859375,1842.5,1831.800048828125,1831.800048828125,1831.800048828125,1841.699951171875,1852.699951171875,1829.9000244140625,1793.300048828125,1784.9000244140625,1784.9000244140625,1784.9000244140625,1795.0,1800.300048828125,1809.199951171875,1803.0,1806.5999755859375,1806.5999755859375,1806.5999755859375,1820.5999755859375,1826.5999755859375,1835.199951171875,1836.199951171875,1840.800048828125,1840.800048828125,1840.800048828125,1868.0,1854.800048828125,1870.199951171875,1900.699951171875,1898.5999755859375,1898.5999755859375,1898.5999755859375,1898.5999755859375,1906.0999755859375,1909.199951171875,1925.0999755859375,1886.5,1886.5,1886.5,1899.4000244140625,1942.4000244140625,1920.9000244140625,1934.4000244140625,1965.0999755859375,1965.0999755859375,1965.0999755859375,1993.9000244140625,2040.0999755859375,1985.9000244140625,1998.0999755859375,1982.699951171875,1982.699951171875,1982.699951171875,1959.5999755859375,1928.5,1908.0,1942.0999755859375,1928.199951171875,1928.199951171875,1928.199951171875,1928.5999755859375,1920.699951171875,1936.5999755859375,1961.5999755859375,1953.800048828125,1953.800048828125,1953.800048828125,1939.5999755859375,1912.0,1933.5,1949.199951171875,1919.0999755859375,1919.0999755859375,1919.0999755859375,1929.199951171875,1922.9000244140625,1918.4000244140625,1933.800048828125,1941.5999755859375,1941.5999755859375,1941.5999755859375,1944.300048828125,1972.0999755859375,1981.0,1970.9000244140625,1970.9000244140625,1970.9000244140625,1970.9000244140625,1982.9000244140625,1955.699951171875,1952.300048828125,1944.9000244140625,1931.0,1931.0,1931.0,1893.199951171875,1901.4000244140625,1885.9000244140625,1888.699951171875,1909.300048828125,1909.300048828125,1909.300048828125,1861.800048828125,1868.800048828125,1867.0,1874.0,1881.199951171875,1881.199951171875,1881.199951171875,1857.0999755859375,1839.9000244140625,1852.5999755859375,1823.800048828125,1807.4000244140625,1807.4000244140625,1807.4000244140625,1802.0],\"type\":\"scatter\",\"showlegend\":false}],                        {\"height\":300,\"plot_bgcolor\":\"#eef6f6\",\"template\":{\"data\":{\"bar\":[{\"error_x\":{\"color\":\"#2a3f5f\"},\"error_y\":{\"color\":\"#2a3f5f\"},\"marker\":{\"line\":{\"color\":\"#E5ECF6\",\"width\":0.5},\"pattern\":{\"fillmode\":\"overlay\",\"size\":10,\"solidity\":0.2}},\"type\":\"bar\"}],\"barpolar\":[{\"marker\":{\"line\":{\"color\":\"#E5ECF6\",\"width\":0.5},\"pattern\":{\"fillmode\":\"overlay\",\"size\":10,\"solidity\":0.2}},\"type\":\"barpolar\"}],\"carpet\":[{\"aaxis\":{\"endlinecolor\":\"#2a3f5f\",\"gridcolor\":\"white\",\"linecolor\":\"white\",\"minorgridcolor\":\"white\",\"startlinecolor\":\"#2a3f5f\"},\"baxis\":{\"endlinecolor\":\"#2a3f5f\",\"gridcolor\":\"white\",\"linecolor\":\"white\",\"minorgridcolor\":\"white\",\"startlinecolor\":\"#2a3f5f\"},\"type\":\"carpet\"}],\"choropleth\":[{\"colorbar\":{\"outlinewidth\":0,\"ticks\":\"\"},\"type\":\"choropleth\"}],\"contour\":[{\"colorbar\":{\"outlinewidth\":0,\"ticks\":\"\"},\"colorscale\":[[0.0,\"#0d0887\"],[0.1111111111111111,\"#46039f\"],[0.2222222222222222,\"#7201a8\"],[0.3333333333333333,\"#9c179e\"],[0.4444444444444444,\"#bd3786\"],[0.5555555555555556,\"#d8576b\"],[0.6666666666666666,\"#ed7953\"],[0.7777777777777778,\"#fb9f3a\"],[0.8888888888888888,\"#fdca26\"],[1.0,\"#f0f921\"]],\"type\":\"contour\"}],\"contourcarpet\":[{\"colorbar\":{\"outlinewidth\":0,\"ticks\":\"\"},\"type\":\"contourcarpet\"}],\"heatmap\":[{\"colorbar\":{\"outlinewidth\":0,\"ticks\":\"\"},\"colorscale\":[[0.0,\"#0d0887\"],[0.1111111111111111,\"#46039f\"],[0.2222222222222222,\"#7201a8\"],[0.3333333333333333,\"#9c179e\"],[0.4444444444444444,\"#bd3786\"],[0.5555555555555556,\"#d8576b\"],[0.6666666666666666,\"#ed7953\"],[0.7777777777777778,\"#fb9f3a\"],[0.8888888888888888,\"#fdca26\"],[1.0,\"#f0f921\"]],\"type\":\"heatmap\"}],\"heatmapgl\":[{\"colorbar\":{\"outlinewidth\":0,\"ticks\":\"\"},\"colorscale\":[[0.0,\"#0d0887\"],[0.1111111111111111,\"#46039f\"],[0.2222222222222222,\"#7201a8\"],[0.3333333333333333,\"#9c179e\"],[0.4444444444444444,\"#bd3786\"],[0.5555555555555556,\"#d8576b\"],[0.6666666666666666,\"#ed7953\"],[0.7777777777777778,\"#fb9f3a\"],[0.8888888888888888,\"#fdca26\"],[1.0,\"#f0f921\"]],\"type\":\"heatmapgl\"}],\"histogram\":[{\"marker\":{\"pattern\":{\"fillmode\":\"overlay\",\"size\":10,\"solidity\":0.2}},\"type\":\"histogram\"}],\"histogram2d\":[{\"colorbar\":{\"outlinewidth\":0,\"ticks\":\"\"},\"colorscale\":[[0.0,\"#0d0887\"],[0.1111111111111111,\"#46039f\"],[0.2222222222222222,\"#7201a8\"],[0.3333333333333333,\"#9c179e\"],[0.4444444444444444,\"#bd3786\"],[0.5555555555555556,\"#d8576b\"],[0.6666666666666666,\"#ed7953\"],[0.7777777777777778,\"#fb9f3a\"],[0.8888888888888888,\"#fdca26\"],[1.0,\"#f0f921\"]],\"type\":\"histogram2d\"}],\"histogram2dcontour\":[{\"colorbar\":{\"outlinewidth\":0,\"ticks\":\"\"},\"colorscale\":[[0.0,\"#0d0887\"],[0.1111111111111111,\"#46039f\"],[0.2222222222222222,\"#7201a8\"],[0.3333333333333333,\"#9c179e\"],[0.4444444444444444,\"#bd3786\"],[0.5555555555555556,\"#d8576b\"],[0.6666666666666666,\"#ed7953\"],[0.7777777777777778,\"#fb9f3a\"],[0.8888888888888888,\"#fdca26\"],[1.0,\"#f0f921\"]],\"type\":\"histogram2dcontour\"}],\"mesh3d\":[{\"colorbar\":{\"outlinewidth\":0,\"ticks\":\"\"},\"type\":\"mesh3d\"}],\"parcoords\":[{\"line\":{\"colorbar\":{\"outlinewidth\":0,\"ticks\":\"\"}},\"type\":\"parcoords\"}],\"pie\":[{\"automargin\":true,\"type\":\"pie\"}],\"scatter\":[{\"marker\":{\"colorbar\":{\"outlinewidth\":0,\"ticks\":\"\"}},\"type\":\"scatter\"}],\"scatter3d\":[{\"line\":{\"colorbar\":{\"outlinewidth\":0,\"ticks\":\"\"}},\"marker\":{\"colorbar\":{\"outlinewidth\":0,\"ticks\":\"\"}},\"type\":\"scatter3d\"}],\"scattercarpet\":[{\"marker\":{\"colorbar\":{\"outlinewidth\":0,\"ticks\":\"\"}},\"type\":\"scattercarpet\"}],\"scattergeo\":[{\"marker\":{\"colorbar\":{\"outlinewidth\":0,\"ticks\":\"\"}},\"type\":\"scattergeo\"}],\"scattergl\":[{\"marker\":{\"colorbar\":{\"outlinewidth\":0,\"ticks\":\"\"}},\"type\":\"scattergl\"}],\"scattermapbox\":[{\"marker\":{\"colorbar\":{\"outlinewidth\":0,\"ticks\":\"\"}},\"type\":\"scattermapbox\"}],\"scatterpolar\":[{\"marker\":{\"colorbar\":{\"outlinewidth\":0,\"ticks\":\"\"}},\"type\":\"scatterpolar\"}],\"scatterpolargl\":[{\"marker\":{\"colorbar\":{\"outlinewidth\":0,\"ticks\":\"\"}},\"type\":\"scatterpolargl\"}],\"scatterternary\":[{\"marker\":{\"colorbar\":{\"outlinewidth\":0,\"ticks\":\"\"}},\"type\":\"scatterternary\"}],\"surface\":[{\"colorbar\":{\"outlinewidth\":0,\"ticks\":\"\"},\"colorscale\":[[0.0,\"#0d0887\"],[0.1111111111111111,\"#46039f\"],[0.2222222222222222,\"#7201a8\"],[0.3333333333333333,\"#9c179e\"],[0.4444444444444444,\"#bd3786\"],[0.5555555555555556,\"#d8576b\"],[0.6666666666666666,\"#ed7953\"],[0.7777777777777778,\"#fb9f3a\"],[0.8888888888888888,\"#fdca26\"],[1.0,\"#f0f921\"]],\"type\":\"surface\"}],\"table\":[{\"cells\":{\"fill\":{\"color\":\"#EBF0F8\"},\"line\":{\"color\":\"white\"}},\"header\":{\"fill\":{\"color\":\"#C8D4E3\"},\"line\":{\"color\":\"white\"}},\"type\":\"table\"}]},\"layout\":{\"annotationdefaults\":{\"arrowcolor\":\"#2a3f5f\",\"arrowhead\":0,\"arrowwidth\":1},\"autotypenumbers\":\"strict\",\"coloraxis\":{\"colorbar\":{\"outlinewidth\":0,\"ticks\":\"\"}},\"colorscale\":{\"diverging\":[[0,\"#8e0152\"],[0.1,\"#c51b7d\"],[0.2,\"#de77ae\"],[0.3,\"#f1b6da\"],[0.4,\"#fde0ef\"],[0.5,\"#f7f7f7\"],[0.6,\"#e6f5d0\"],[0.7,\"#b8e186\"],[0.8,\"#7fbc41\"],[0.9,\"#4d9221\"],[1,\"#276419\"]],\"sequential\":[[0.0,\"#0d0887\"],[0.1111111111111111,\"#46039f\"],[0.2222222222222222,\"#7201a8\"],[0.3333333333333333,\"#9c179e\"],[0.4444444444444444,\"#bd3786\"],[0.5555555555555556,\"#d8576b\"],[0.6666666666666666,\"#ed7953\"],[0.7777777777777778,\"#fb9f3a\"],[0.8888888888888888,\"#fdca26\"],[1.0,\"#f0f921\"]],\"sequentialminus\":[[0.0,\"#0d0887\"],[0.1111111111111111,\"#46039f\"],[0.2222222222222222,\"#7201a8\"],[0.3333333333333333,\"#9c179e\"],[0.4444444444444444,\"#bd3786\"],[0.5555555555555556,\"#d8576b\"],[0.6666666666666666,\"#ed7953\"],[0.7777777777777778,\"#fb9f3a\"],[0.8888888888888888,\"#fdca26\"],[1.0,\"#f0f921\"]]},\"colorway\":[\"#636efa\",\"#EF553B\",\"#00cc96\",\"#ab63fa\",\"#FFA15A\",\"#19d3f3\",\"#FF6692\",\"#B6E880\",\"#FF97FF\",\"#FECB52\"],\"font\":{\"color\":\"#2a3f5f\"},\"geo\":{\"bgcolor\":\"white\",\"lakecolor\":\"white\",\"landcolor\":\"#E5ECF6\",\"showlakes\":true,\"showland\":true,\"subunitcolor\":\"white\"},\"hoverlabel\":{\"align\":\"left\"},\"hovermode\":\"closest\",\"mapbox\":{\"style\":\"light\"},\"paper_bgcolor\":\"white\",\"plot_bgcolor\":\"#E5ECF6\",\"polar\":{\"angularaxis\":{\"gridcolor\":\"white\",\"linecolor\":\"white\",\"ticks\":\"\"},\"bgcolor\":\"#E5ECF6\",\"radialaxis\":{\"gridcolor\":\"white\",\"linecolor\":\"white\",\"ticks\":\"\"}},\"scene\":{\"xaxis\":{\"backgroundcolor\":\"#E5ECF6\",\"gridcolor\":\"white\",\"gridwidth\":2,\"linecolor\":\"white\",\"showbackground\":true,\"ticks\":\"\",\"zerolinecolor\":\"white\"},\"yaxis\":{\"backgroundcolor\":\"#E5ECF6\",\"gridcolor\":\"white\",\"gridwidth\":2,\"linecolor\":\"white\",\"showbackground\":true,\"ticks\":\"\",\"zerolinecolor\":\"white\"},\"zaxis\":{\"backgroundcolor\":\"#E5ECF6\",\"gridcolor\":\"white\",\"gridwidth\":2,\"linecolor\":\"white\",\"showbackground\":true,\"ticks\":\"\",\"zerolinecolor\":\"white\"}},\"shapedefaults\":{\"line\":{\"color\":\"#2a3f5f\"}},\"ternary\":{\"aaxis\":{\"gridcolor\":\"white\",\"linecolor\":\"white\",\"ticks\":\"\"},\"baxis\":{\"gridcolor\":\"white\",\"linecolor\":\"white\",\"ticks\":\"\"},\"bgcolor\":\"#E5ECF6\",\"caxis\":{\"gridcolor\":\"white\",\"linecolor\":\"white\",\"ticks\":\"\"}},\"title\":{\"x\":0.05},\"xaxis\":{\"automargin\":true,\"gridcolor\":\"white\",\"linecolor\":\"white\",\"ticks\":\"\",\"title\":{\"standoff\":15},\"zerolinecolor\":\"white\",\"zerolinewidth\":2},\"yaxis\":{\"automargin\":true,\"gridcolor\":\"white\",\"linecolor\":\"white\",\"ticks\":\"\",\"title\":{\"standoff\":15},\"zerolinecolor\":\"white\",\"zerolinewidth\":2}}}},                        {\"responsive\": true}                    ).then(function(){\n",
       "                            \n",
       "var gd = document.getElementById('df93fc3e-254a-436d-a60d-3f0697142ed9');\n",
       "var x = new MutationObserver(function (mutations, observer) {{\n",
       "        var display = window.getComputedStyle(gd).display;\n",
       "        if (!display || display === 'none') {{\n",
       "            console.log([gd, 'removed!']);\n",
       "            Plotly.purge(gd);\n",
       "            observer.disconnect();\n",
       "        }}\n",
       "}});\n",
       "\n",
       "// Listen for the removal of the full notebook cells\n",
       "var notebookContainer = gd.closest('#notebook-container');\n",
       "if (notebookContainer) {{\n",
       "    x.observe(notebookContainer, {childList: true});\n",
       "}}\n",
       "\n",
       "// Listen for the clearing of the current output cell\n",
       "var outputEl = gd.closest('.output');\n",
       "if (outputEl) {{\n",
       "    x.observe(outputEl, {childList: true});\n",
       "}}\n",
       "\n",
       "                        })                };                });            </script>        </div>"
      ]
     },
     "metadata": {},
     "output_type": "display_data"
    }
   ],
   "source": [
    "symbol = 'GC=F'\n",
    "# create graph\n",
    "title = 'Closing price ' + symbol\n",
    "\n",
    "gdp_layout = go.Layout(\n",
    "        height=300,\n",
    "        #paper_bgcolor=COLORS[1],\n",
    "        plot_bgcolor='#eef6f6',\n",
    "        )\n",
    "\n",
    "fig_gdp = go.Figure(layout=gdp_layout)\n",
    "fig_gdp.add_trace(go.Scatter(x=gold_data.index, y=gold_data['Close'],\n",
    "                    #text=ts_years,\n",
    "                    mode='lines',\n",
    "                    #name=c_,\n",
    "                    opacity=.25,\n",
    "                    marker=dict(color='#333333')\n",
    "                    #visible='legendonly'\n",
    "                    ))\n",
    "fig_gdp.update_traces(showlegend=False)\n",
    "    "
   ]
  },
  {
   "cell_type": "code",
   "execution_count": null,
   "id": "537e018c-b98e-415e-b506-9117a595ff9f",
   "metadata": {},
   "outputs": [],
   "source": []
  }
 ],
 "metadata": {
  "kernelspec": {
   "display_name": "Python 3 (ipykernel)",
   "language": "python",
   "name": "python3"
  },
  "language_info": {
   "codemirror_mode": {
    "name": "ipython",
    "version": 3
   },
   "file_extension": ".py",
   "mimetype": "text/x-python",
   "name": "python",
   "nbconvert_exporter": "python",
   "pygments_lexer": "ipython3",
   "version": "3.9.7"
  }
 },
 "nbformat": 4,
 "nbformat_minor": 5
}
