{
 "cells": [
  {
   "cell_type": "code",
   "execution_count": 1,
   "id": "f2cc7be2-a43b-4b85-b1b6-a5cec52b7aa9",
   "metadata": {},
   "outputs": [],
   "source": [
    "import pandas as pd\n",
    "import numpy as np\n",
    "import scipy as sp\n",
    "\n",
    "from math import ceil\n",
    "from datetime import timedelta, datetime\n",
    "import os\n",
    "import re\n",
    "import warnings\n",
    "import itertools\n",
    "import collections\n",
    "import ta\n",
    "\n"
   ]
  },
  {
   "cell_type": "code",
   "execution_count": 4,
   "id": "84b583f4-bcce-43ef-aba0-423a23e48429",
   "metadata": {},
   "outputs": [],
   "source": [
    "tweets = pd.read_csv('./tweet_sample.csv')"
   ]
  },
  {
   "cell_type": "code",
   "execution_count": 7,
   "id": "764d6c3c-93bf-47e8-9227-8746fdb1b239",
   "metadata": {},
   "outputs": [],
   "source": [
    "tweets.columns = [\"tweets\"]"
   ]
  },
  {
   "cell_type": "code",
   "execution_count": 8,
   "id": "a0aa3d86-825e-4e25-98a9-95928643be94",
   "metadata": {},
   "outputs": [
    {
     "data": {
      "text/html": [
       "<div>\n",
       "<style scoped>\n",
       "    .dataframe tbody tr th:only-of-type {\n",
       "        vertical-align: middle;\n",
       "    }\n",
       "\n",
       "    .dataframe tbody tr th {\n",
       "        vertical-align: top;\n",
       "    }\n",
       "\n",
       "    .dataframe thead th {\n",
       "        text-align: right;\n",
       "    }\n",
       "</style>\n",
       "<table border=\"1\" class=\"dataframe\">\n",
       "  <thead>\n",
       "    <tr style=\"text-align: right;\">\n",
       "      <th></th>\n",
       "      <th>tweets</th>\n",
       "    </tr>\n",
       "  </thead>\n",
       "  <tbody>\n",
       "    <tr>\n",
       "      <th>0</th>\n",
       "      <td>@HaiKala4 I think VIX does. I think SPY bounces</td>\n",
       "    </tr>\n",
       "    <tr>\n",
       "      <th>1</th>\n",
       "      <td>At 2pm: DJ 31582.59 -1072 -3.58%, Naz 11488.83...</td>\n",
       "    </tr>\n",
       "    <tr>\n",
       "      <th>2</th>\n",
       "      <td>@Algo_382 Yep If Vix leaves us alone already lol</td>\n",
       "    </tr>\n",
       "    <tr>\n",
       "      <th>3</th>\n",
       "      <td>$vix must burn from here. Or we might see 35. ...</td>\n",
       "    </tr>\n",
       "    <tr>\n",
       "      <th>4</th>\n",
       "      <td>If $VIX is over $30 why are you buying calls?</td>\n",
       "    </tr>\n",
       "    <tr>\n",
       "      <th>...</th>\n",
       "      <td>...</td>\n",
       "    </tr>\n",
       "    <tr>\n",
       "      <th>994</th>\n",
       "      <td>#Options Flow Stream Update $AMZN $TSLA $CRWD ...</td>\n",
       "    </tr>\n",
       "    <tr>\n",
       "      <th>995</th>\n",
       "      <td>#Options Flow Stream Update $AMZN $TSLA $CRWD ...</td>\n",
       "    </tr>\n",
       "    <tr>\n",
       "      <th>996</th>\n",
       "      <td>Twitter feed: even the bulls/the bottom is in ...</td>\n",
       "    </tr>\n",
       "    <tr>\n",
       "      <th>997</th>\n",
       "      <td>RT @KobeissiLetter: We now have:\\n\\n1. Largest...</td>\n",
       "    </tr>\n",
       "    <tr>\n",
       "      <th>998</th>\n",
       "      <td>RT @MOHAVVKJOHNSON: How tf y’all close half th...</td>\n",
       "    </tr>\n",
       "  </tbody>\n",
       "</table>\n",
       "<p>999 rows × 1 columns</p>\n",
       "</div>"
      ],
      "text/plain": [
       "                                                tweets\n",
       "0      @HaiKala4 I think VIX does. I think SPY bounces\n",
       "1    At 2pm: DJ 31582.59 -1072 -3.58%, Naz 11488.83...\n",
       "2     @Algo_382 Yep If Vix leaves us alone already lol\n",
       "3    $vix must burn from here. Or we might see 35. ...\n",
       "4        If $VIX is over $30 why are you buying calls?\n",
       "..                                                 ...\n",
       "994  #Options Flow Stream Update $AMZN $TSLA $CRWD ...\n",
       "995  #Options Flow Stream Update $AMZN $TSLA $CRWD ...\n",
       "996  Twitter feed: even the bulls/the bottom is in ...\n",
       "997  RT @KobeissiLetter: We now have:\\n\\n1. Largest...\n",
       "998  RT @MOHAVVKJOHNSON: How tf y’all close half th...\n",
       "\n",
       "[999 rows x 1 columns]"
      ]
     },
     "execution_count": 8,
     "metadata": {},
     "output_type": "execute_result"
    }
   ],
   "source": [
    "tweets"
   ]
  },
  {
   "cell_type": "code",
   "execution_count": 10,
   "id": "fee0869f-3aff-48e0-837e-3b0f97cfca16",
   "metadata": {},
   "outputs": [],
   "source": [
    "def clean_text(txt):\n",
    "    txt = re.sub(r\"RT[\\s]+\", \"\", txt)\n",
    "    txt = txt.replace(\"\\n\", \" \")\n",
    "    txt = re.sub(\" +\", \" \", txt)\n",
    "    txt = re.sub(r\"https?:\\/\\/\\S+\", \"\", txt)\n",
    "    txt = re.sub(r\"(@[A-Za-z0–9_]+)|[^\\w\\s]|#\", \"\", txt)\n",
    "    #txt = emoji.replace_emoji(txt, replace='')\n",
    "    txt.strip()\n",
    "    return txt\n",
    "# Cleaning tweet text\n",
    "tweets[\"tweets\"] = tweets[\"tweets\"].apply(clean_text)\n"
   ]
  },
  {
   "cell_type": "code",
   "execution_count": 11,
   "id": "d867c50a-7c01-43fd-b46e-b9e45d25de2d",
   "metadata": {},
   "outputs": [
    {
     "data": {
      "text/plain": [
       "0                 4 I think VIX does I think SPY bounces\n",
       "1      At 2pm DJ 3158259 1072 358 Naz 1148883 53669 4...\n",
       "2             382 Yep If Vix leaves us alone already lol\n",
       "3      vix must burn from here Or we might see 35 We ...\n",
       "4             If VIX is over 30 why are you buying calls\n",
       "                             ...                        \n",
       "994    Options Flow Stream Update AMZN TSLA CRWD TGT ...\n",
       "995    Options Flow Stream Update AMZN TSLA CRWD TGT ...\n",
       "996    Twitter feed even the bullsthe bottom is in cr...\n",
       "997     We now have 1 Largest worker shortage since W...\n",
       "998     How tf yall close half the schools shut down ...\n",
       "Name: tweets, Length: 999, dtype: object"
      ]
     },
     "execution_count": 11,
     "metadata": {},
     "output_type": "execute_result"
    }
   ],
   "source": [
    "tweets[\"tweets\"]"
   ]
  },
  {
   "cell_type": "code",
   "execution_count": 14,
   "id": "acf7fcf0-5268-47a3-937d-5ad9c7e24e02",
   "metadata": {},
   "outputs": [
    {
     "name": "stderr",
     "output_type": "stream",
     "text": [
      "[nltk_data] Downloading package vader_lexicon to\n",
      "[nltk_data]     /Users/far/nltk_data...\n"
     ]
    },
    {
     "data": {
      "text/plain": [
       "True"
      ]
     },
     "execution_count": 14,
     "metadata": {},
     "output_type": "execute_result"
    }
   ],
   "source": [
    "import nltk\n",
    "from nltk.sentiment import SentimentIntensityAnalyzer\n",
    "#nltk.download('vader_lexicon')\n"
   ]
  },
  {
   "cell_type": "code",
   "execution_count": 15,
   "id": "b475a7d8-5f32-422e-ae6e-543c99ee49a7",
   "metadata": {},
   "outputs": [
    {
     "data": {
      "text/plain": [
       "{'neg': 0.0, 'neu': 0.295, 'pos': 0.705, 'compound': 0.8012}"
      ]
     },
     "execution_count": 15,
     "metadata": {},
     "output_type": "execute_result"
    }
   ],
   "source": [
    "sia = SentimentIntensityAnalyzer()\n",
    "sia.polarity_scores(\"Wow, NLTK is really powerful!\")"
   ]
  },
  {
   "cell_type": "code",
   "execution_count": 30,
   "id": "23c3463b-da43-4b65-a548-01e584921a24",
   "metadata": {},
   "outputs": [],
   "source": [
    "def get_sentiment(s):\n",
    "    scores = sia.polarity_scores(s)\n",
    "    neg = scores['neg']\n",
    "    neu = scores['neu']\n",
    "    pos = scores['pos']\n",
    "    \n",
    "    return [neg, neu, pos]"
   ]
  },
  {
   "cell_type": "code",
   "execution_count": 58,
   "id": "89c407e6-e974-4400-937c-74270a131b4c",
   "metadata": {},
   "outputs": [
    {
     "data": {
      "text/plain": [
       "0.07458758758758759"
      ]
     },
     "execution_count": 58,
     "metadata": {},
     "output_type": "execute_result"
    }
   ],
   "source": [
    "res = pd.DataFrame(tweets['tweets'].apply(lambda x: get_sentiment(x))) #.explode('tweets', ignore_index=True)\n",
    "res = res.apply(lambda row: row['tweets'], axis=1, result_type='expand').rename(columns={0:'neg', 1:'neu', 2:'pos'})\n",
    "res.mean()['neg']\n",
    "res.mean()['neu']\n",
    "res.mean()['pos']\n"
   ]
  },
  {
   "cell_type": "code",
   "execution_count": 70,
   "id": "a7ba3d56-551b-4a71-bc5d-0b447af41ca4",
   "metadata": {},
   "outputs": [
    {
     "name": "stderr",
     "output_type": "stream",
     "text": [
      "[nltk_data] Downloading package vader_lexicon to\n",
      "[nltk_data]     /Users/far/nltk_data...\n",
      "[nltk_data]   Package vader_lexicon is already up-to-date!\n"
     ]
    }
   ],
   "source": [
    "try:\n",
    "    #nltk.data.find('vader_lexicon')\n",
    "    nltk.data.find('vader_lexicon')\n",
    "    print('yep;')\n",
    "except LookupError:\n",
    "    nltk.download('vader_lexicon')\n"
   ]
  },
  {
   "cell_type": "code",
   "execution_count": null,
   "id": "6283d2c0-6110-40e1-86e3-4dca8fec792e",
   "metadata": {},
   "outputs": [],
   "source": []
  }
 ],
 "metadata": {
  "kernelspec": {
   "display_name": "Python 3 (ipykernel)",
   "language": "python",
   "name": "python3"
  },
  "language_info": {
   "codemirror_mode": {
    "name": "ipython",
    "version": 3
   },
   "file_extension": ".py",
   "mimetype": "text/x-python",
   "name": "python",
   "nbconvert_exporter": "python",
   "pygments_lexer": "ipython3",
   "version": "3.9.7"
  }
 },
 "nbformat": 4,
 "nbformat_minor": 5
}
